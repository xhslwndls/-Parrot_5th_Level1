{
  "nbformat": 4,
  "nbformat_minor": 0,
  "metadata": {
    "colab": {
      "name": "acc_99.27.ipynb",
      "provenance": [],
      "collapsed_sections": []
    },
    "kernelspec": {
      "name": "python3",
      "display_name": "Python 3"
    },
    "language_info": {
      "name": "python"
    }
  },
  "cells": [
    {
      "cell_type": "code",
      "metadata": {
        "id": "dsMqpq7cXXmN"
      },
      "source": [
        "# 기본 코드"
      ],
      "execution_count": 1,
      "outputs": []
    },
    {
      "cell_type": "code",
      "metadata": {
        "id": "PF-Oj7BNXZkX"
      },
      "source": [
        "import matplotlib.pyplot as plt\n",
        "import tensorflow as tf\n",
        "from tensorflow.keras import datasets, layers, models"
      ],
      "execution_count": 2,
      "outputs": []
    },
    {
      "cell_type": "code",
      "metadata": {
        "id": "6W5LvknRXmSa",
        "colab": {
          "base_uri": "https://localhost:8080/"
        },
        "outputId": "52815719-fc0b-4295-ca22-7c6816797373"
      },
      "source": [
        "(X_train, y_train), (X_test, y_test) = tf.keras.datasets.mnist.load_data()"
      ],
      "execution_count": 3,
      "outputs": [
        {
          "output_type": "stream",
          "name": "stdout",
          "text": [
            "Downloading data from https://storage.googleapis.com/tensorflow/tf-keras-datasets/mnist.npz\n",
            "11493376/11490434 [==============================] - 0s 0us/step\n",
            "11501568/11490434 [==============================] - 0s 0us/step\n"
          ]
        }
      ]
    },
    {
      "cell_type": "code",
      "metadata": {
        "colab": {
          "base_uri": "https://localhost:8080/"
        },
        "id": "X0JHC24NXx7K",
        "outputId": "178a662f-e978-4ec5-8a7e-ca8b4028a752"
      },
      "source": [
        "X_train = X_train.reshape((60000, 28, 28, 1))\n",
        "X_test = X_test.reshape((10000, 28, 28, 1))\n",
        "print(X_train.shape) # (60000, 28, 28)\n",
        "print(X_train.shape) # (60000, )"
      ],
      "execution_count": 4,
      "outputs": [
        {
          "output_type": "stream",
          "name": "stdout",
          "text": [
            "(60000, 28, 28, 1)\n",
            "(60000, 28, 28, 1)\n"
          ]
        }
      ]
    },
    {
      "cell_type": "code",
      "metadata": {
        "id": "Os1tiPCUYIGD"
      },
      "source": [
        "# 데이터 전처리, Normalization\n",
        "X_train, X_test = X_train / 255.0, X_test / 255.0  "
      ],
      "execution_count": 5,
      "outputs": []
    },
    {
      "cell_type": "code",
      "metadata": {
        "id": "ocNP4njjYRNm"
      },
      "source": [
        "# one-hot encoding: X 가 아닌 1차원 array 형태(ex: 0, 1, 2 카테고리에서 1은 [0, 1, 0])\n",
        "# to_categorical() 사용\n",
        "#y_train = tf.keras.utils.to_categorical(y_train, 10)\n",
        "#y_test = tf.keras.utils.to_categorical(y_test, 10)"
      ],
      "execution_count": 6,
      "outputs": []
    },
    {
      "cell_type": "code",
      "metadata": {
        "colab": {
          "base_uri": "https://localhost:8080/"
        },
        "id": "tWTGZ4yBYaik",
        "outputId": "daf553f6-6d36-47f1-9271-9c324a781658"
      },
      "source": [
        "model = models.Sequential()\n",
        "model.add(layers.Conv2D(32, (3, 3), activation='relu', input_shape=(28, 28, 1)))\n",
        "model.add(layers.MaxPooling2D((2, 2)))\n",
        "model.add(layers.Conv2D(64, (3, 3), activation='relu'))\n",
        "model.add(layers.MaxPooling2D((2, 2)))\n",
        "model.add(layers.Conv2D(64, (3, 3), activation='relu'))\n",
        "\n",
        "# 모델구조 확인\n",
        "model.summary()"
      ],
      "execution_count": 7,
      "outputs": [
        {
          "output_type": "stream",
          "name": "stdout",
          "text": [
            "Model: \"sequential\"\n",
            "_________________________________________________________________\n",
            "Layer (type)                 Output Shape              Param #   \n",
            "=================================================================\n",
            "conv2d (Conv2D)              (None, 26, 26, 32)        320       \n",
            "_________________________________________________________________\n",
            "max_pooling2d (MaxPooling2D) (None, 13, 13, 32)        0         \n",
            "_________________________________________________________________\n",
            "conv2d_1 (Conv2D)            (None, 11, 11, 64)        18496     \n",
            "_________________________________________________________________\n",
            "max_pooling2d_1 (MaxPooling2 (None, 5, 5, 64)          0         \n",
            "_________________________________________________________________\n",
            "conv2d_2 (Conv2D)            (None, 3, 3, 64)          36928     \n",
            "=================================================================\n",
            "Total params: 55,744\n",
            "Trainable params: 55,744\n",
            "Non-trainable params: 0\n",
            "_________________________________________________________________\n"
          ]
        }
      ]
    },
    {
      "cell_type": "code",
      "metadata": {
        "colab": {
          "base_uri": "https://localhost:8080/"
        },
        "id": "U4lJRlRoYipX",
        "outputId": "15741f9c-e4d0-4097-fb2e-9feaf4ded3e8"
      },
      "source": [
        "model.add(layers.Flatten())\n",
        "model.add(layers.Dense(64, activation='relu'))\n",
        "model.add(layers.Dense(10, activation='softmax'))\n",
        "\n",
        "# 모델구조 확인\n",
        "model.summary()"
      ],
      "execution_count": 8,
      "outputs": [
        {
          "output_type": "stream",
          "name": "stdout",
          "text": [
            "Model: \"sequential\"\n",
            "_________________________________________________________________\n",
            "Layer (type)                 Output Shape              Param #   \n",
            "=================================================================\n",
            "conv2d (Conv2D)              (None, 26, 26, 32)        320       \n",
            "_________________________________________________________________\n",
            "max_pooling2d (MaxPooling2D) (None, 13, 13, 32)        0         \n",
            "_________________________________________________________________\n",
            "conv2d_1 (Conv2D)            (None, 11, 11, 64)        18496     \n",
            "_________________________________________________________________\n",
            "max_pooling2d_1 (MaxPooling2 (None, 5, 5, 64)          0         \n",
            "_________________________________________________________________\n",
            "conv2d_2 (Conv2D)            (None, 3, 3, 64)          36928     \n",
            "_________________________________________________________________\n",
            "flatten (Flatten)            (None, 576)               0         \n",
            "_________________________________________________________________\n",
            "dense (Dense)                (None, 64)                36928     \n",
            "_________________________________________________________________\n",
            "dense_1 (Dense)              (None, 10)                650       \n",
            "=================================================================\n",
            "Total params: 93,322\n",
            "Trainable params: 93,322\n",
            "Non-trainable params: 0\n",
            "_________________________________________________________________\n"
          ]
        }
      ]
    },
    {
      "cell_type": "code",
      "metadata": {
        "colab": {
          "base_uri": "https://localhost:8080/"
        },
        "id": "R9VSaTSXY_8k",
        "outputId": "ec70cb98-4ecf-4ded-f6d8-6a3af0deb4bb"
      },
      "source": [
        "model.compile(optimizer='adam',\n",
        "              loss='sparse_categorical_crossentropy',\n",
        "              metrics=['accuracy'])\n",
        "\n",
        "model.fit(X_train, y_train, epochs = 14)"
      ],
      "execution_count": 9,
      "outputs": [
        {
          "output_type": "stream",
          "name": "stdout",
          "text": [
            "Epoch 1/14\n",
            "1875/1875 [==============================] - 59s 31ms/step - loss: 0.1443 - accuracy: 0.9550\n",
            "Epoch 2/14\n",
            "1875/1875 [==============================] - 57s 31ms/step - loss: 0.0440 - accuracy: 0.9860\n",
            "Epoch 3/14\n",
            "1875/1875 [==============================] - 56s 30ms/step - loss: 0.0315 - accuracy: 0.9902\n",
            "Epoch 4/14\n",
            "1875/1875 [==============================] - 56s 30ms/step - loss: 0.0248 - accuracy: 0.9919\n",
            "Epoch 5/14\n",
            "1875/1875 [==============================] - 57s 31ms/step - loss: 0.0181 - accuracy: 0.9944\n",
            "Epoch 6/14\n",
            "1875/1875 [==============================] - 56s 30ms/step - loss: 0.0150 - accuracy: 0.9951\n",
            "Epoch 7/14\n",
            "1875/1875 [==============================] - 57s 30ms/step - loss: 0.0134 - accuracy: 0.9955\n",
            "Epoch 8/14\n",
            "1875/1875 [==============================] - 57s 30ms/step - loss: 0.0118 - accuracy: 0.9961\n",
            "Epoch 9/14\n",
            "1875/1875 [==============================] - 57s 30ms/step - loss: 0.0097 - accuracy: 0.9969\n",
            "Epoch 10/14\n",
            "1875/1875 [==============================] - 59s 32ms/step - loss: 0.0073 - accuracy: 0.9974\n",
            "Epoch 11/14\n",
            "1875/1875 [==============================] - 57s 30ms/step - loss: 0.0072 - accuracy: 0.9975\n",
            "Epoch 12/14\n",
            "1875/1875 [==============================] - 57s 30ms/step - loss: 0.0078 - accuracy: 0.9973\n",
            "Epoch 13/14\n",
            "1875/1875 [==============================] - 57s 30ms/step - loss: 0.0064 - accuracy: 0.9979\n",
            "Epoch 14/14\n",
            "1875/1875 [==============================] - 57s 30ms/step - loss: 0.0057 - accuracy: 0.9984\n"
          ]
        },
        {
          "output_type": "execute_result",
          "data": {
            "text/plain": [
              "<keras.callbacks.History at 0x7f9735889290>"
            ]
          },
          "metadata": {},
          "execution_count": 9
        }
      ]
    },
    {
      "cell_type": "code",
      "metadata": {
        "colab": {
          "base_uri": "https://localhost:8080/"
        },
        "id": "wG7EtRmUZKuR",
        "outputId": "d1cec4d5-1d4c-4ab1-e260-3faf6f7d1ee7"
      },
      "source": [
        "test_loss, test_acc = model.evaluate(X_test,  y_test, verbose=2)"
      ],
      "execution_count": 10,
      "outputs": [
        {
          "output_type": "stream",
          "name": "stdout",
          "text": [
            "313/313 - 3s - loss: 0.0389 - accuracy: 0.9927\n"
          ]
        }
      ]
    },
    {
      "cell_type": "code",
      "metadata": {
        "colab": {
          "base_uri": "https://localhost:8080/"
        },
        "id": "LMv_CtVXaxRY",
        "outputId": "9dfc1067-9e59-46fb-d054-0ac358748305"
      },
      "source": [
        "print(test_acc)"
      ],
      "execution_count": 11,
      "outputs": [
        {
          "output_type": "stream",
          "name": "stdout",
          "text": [
            "0.9926999807357788\n"
          ]
        }
      ]
    },
    {
      "cell_type": "code",
      "metadata": {
        "id": "dGgFrzCBa0iZ"
      },
      "source": [
        ""
      ],
      "execution_count": 11,
      "outputs": []
    }
  ]
}