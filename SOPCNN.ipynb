{
  "nbformat": 4,
  "nbformat_minor": 5,
  "metadata": {
    "kernelspec": {
      "display_name": "Python 3",
      "language": "python",
      "name": "python3"
    },
    "language_info": {
      "codemirror_mode": {
        "name": "ipython",
        "version": 3
      },
      "file_extension": ".py",
      "mimetype": "text/x-python",
      "name": "python",
      "nbconvert_exporter": "python",
      "pygments_lexer": "ipython3",
      "version": "3.8.8"
    },
    "colab": {
      "name": "Mini-Contest 1.ipynb",
      "provenance": []
    },
    "accelerator": "GPU"
  },
  "cells": [
    {
      "cell_type": "code",
      "metadata": {
        "colab": {
          "base_uri": "https://localhost:8080/"
        },
        "id": "e7a4a366-f470-4768-a6f7-a75ca53c48dc",
        "outputId": "d6cfb336-b932-4c9e-d81a-c4c831778e50"
      },
      "source": [
        "!pip install einops\n",
        "\n",
        "import numpy as np\n",
        "import pandas as pd\n",
        "import tensorflow as tf\n",
        "import matplotlib.pyplot as plt\n",
        "\n",
        "from tensorflow.data import Dataset\n",
        "from tensorflow.keras.models import Model\n",
        "from tensorflow.keras.utils import to_categorical\n",
        "from tensorflow.keras.optimizers import Adam, RMSprop\n",
        "from tensorflow.keras.layers import Input, Dense, Conv2D, Dropout, Flatten, Activation, MaxPooling2D, BatchNormalization\n",
        "from tensorflow.keras.preprocessing.image import ImageDataGenerator\n",
        "from tensorflow.keras.callbacks import EarlyStopping, ModelCheckpoint, ReduceLROnPlateau\n",
        "\n",
        "from einops import rearrange\n",
        "from sklearn.model_selection import train_test_split"
      ],
      "id": "e7a4a366-f470-4768-a6f7-a75ca53c48dc",
      "execution_count": 12,
      "outputs": [
        {
          "output_type": "stream",
          "name": "stdout",
          "text": [
            "Requirement already satisfied: einops in /usr/local/lib/python3.7/dist-packages (0.3.2)\n"
          ]
        }
      ]
    },
    {
      "cell_type": "markdown",
      "metadata": {
        "id": "a794c2db-17e6-42c2-bb26-7e22941226e5"
      },
      "source": [
        "## Import Data"
      ],
      "id": "a794c2db-17e6-42c2-bb26-7e22941226e5"
    },
    {
      "cell_type": "code",
      "metadata": {
        "id": "f89da516-7b1f-4454-a641-09371f0a3632"
      },
      "source": [
        "(X_train, y_train), (X_test, y_test) = tf.keras.datasets.mnist.load_data()"
      ],
      "id": "f89da516-7b1f-4454-a641-09371f0a3632",
      "execution_count": 13,
      "outputs": []
    },
    {
      "cell_type": "markdown",
      "metadata": {
        "id": "7e38adb8-6b62-4b01-a58c-ec00d21271e9"
      },
      "source": [
        "## Observe Data"
      ],
      "id": "7e38adb8-6b62-4b01-a58c-ec00d21271e9"
    },
    {
      "cell_type": "code",
      "metadata": {
        "colab": {
          "base_uri": "https://localhost:8080/"
        },
        "id": "f69f4a1e-95c1-4b7b-b436-09b1d2b39cb9",
        "outputId": "d2dbd745-7109-407d-c71f-4767d9e16be3"
      },
      "source": [
        "print('X_train: ', X_train.shape)\n",
        "print('X_test: ', X_test.shape)"
      ],
      "id": "f69f4a1e-95c1-4b7b-b436-09b1d2b39cb9",
      "execution_count": 14,
      "outputs": [
        {
          "output_type": "stream",
          "name": "stdout",
          "text": [
            "X_train:  (60000, 28, 28)\n",
            "X_test:  (10000, 28, 28)\n"
          ]
        }
      ]
    },
    {
      "cell_type": "code",
      "metadata": {
        "colab": {
          "base_uri": "https://localhost:8080/",
          "height": 657
        },
        "id": "df3cd358-d442-419b-8f15-1a59f8233d0f",
        "outputId": "b4baf7a0-f19a-435b-d826-ed0410ea216a"
      },
      "source": [
        "fig = plt.figure(figsize=(9, 9))\n",
        "\n",
        "for i in range(9):\n",
        "    plt.subplot(3, 3, 1 + i)\n",
        "    plt.tight_layout()\n",
        "    plt.imshow(X_train[i], cmap=\"gray\", interpolation=\"none\")\n",
        "    target = y_train[i]\n",
        "    plt.title(\"Ground Truth: {}\".format(int(target)))\n",
        "\n",
        "plt.show()"
      ],
      "id": "df3cd358-d442-419b-8f15-1a59f8233d0f",
      "execution_count": 15,
      "outputs": [
        {
          "output_type": "display_data",
          "data": {
            "image/png": "[encoded data removed]",
            "text/plain": [
              "<Figure size 648x648 with 9 Axes>"
            ]
          },
          "metadata": {
            "needs_background": "light"
          }
        }
      ]
    },
    {
      "cell_type": "markdown",
      "metadata": {
        "id": "16f8e74d-61e3-4c81-b966-271e0ccc58c7"
      },
      "source": [
        "## Preprocessing"
      ],
      "id": "16f8e74d-61e3-4c81-b966-271e0ccc58c7"
    },
    {
      "cell_type": "code",
      "metadata": {
        "id": "bde59564-7b3f-450c-b7b2-8cd00f4a55ca"
      },
      "source": [
        "target_size = 10   # 0 ~ 9, 총 9개\n",
        "\n",
        "### 주의: 흑백 데이터여도 channel 차원을 살려주어야 정상적으로 작동합니다\n",
        "X_train = rearrange(X_train, \"b h w -> b h w 1\")\n",
        "X_test = rearrange(X_test, \"b h w -> b h w 1\")\n",
        "\n",
        "X_train = X_train.astype(\"float32\") / (2 ** 8 - 1)   # 255로 scaling\n",
        "X_test = X_test.astype(\"float32\") / (2 ** 8 - 1)     # 255로 scaling\n",
        "\n",
        "y_train = to_categorical(y_train, target_size)       # 타겟을 정수로 변환\n",
        "y_test = to_categorical(y_test, target_size) "
      ],
      "id": "bde59564-7b3f-450c-b7b2-8cd00f4a55ca",
      "execution_count": 16,
      "outputs": []
    },
    {
      "cell_type": "code",
      "metadata": {
        "id": "fd1752df-ae19-4191-adc3-9014236da8b5"
      },
      "source": [
        "X_train, X_val, y_train, y_val = train_test_split(X_train, y_train, test_size=0.2)"
      ],
      "id": "fd1752df-ae19-4191-adc3-9014236da8b5",
      "execution_count": 17,
      "outputs": []
    },
    {
      "cell_type": "code",
      "metadata": {
        "id": "fDskH_kINW6z",
        "colab": {
          "base_uri": "https://localhost:8080/",
          "height": 553
        },
        "outputId": "81656cf2-56e0-416f-95c5-d9c63f7aace8"
      },
      "source": [
        "train_datagen = ImageDataGenerator(rotation_range=20,         # 무작위 회전 각도\n",
        "                                   width_shift_range=0.2,     # 가로 shift 비율 (전체 너비 대비 비율)\n",
        "                                   height_shift_range=0.2,    # 세로 shift 비율\n",
        "                                   brightness_range=None,     # 밝기 변환 범위 ex) (0.2, 0.8)\n",
        "                                   zoom_range=0.1,            # 확대 비율 (소수 1개 혹은 범위 지정 가능)\n",
        "                                   horizontal_flip=False,     # 무작위 수평 전환\n",
        "                                   vertical_flip=False,       # 무작위 수직 전환 (50% 확률)\n",
        "                                   shear_range=0.2,\n",
        "                                   rescale=None)              # 크기 재조절 인수 (보통 1./255를 많이 사용하지만 같은 비율로 valid data도 처리해줘야함)\n",
        "\n",
        "train_flow = train_datagen.flow(X_train, y_train, batch_size=256, shuffle=True)\n",
        "# val_flow = val_datagen.flow(X_val, y_val, batch_size=256, shuffle=False)\n",
        "\n",
        "fig = plt.figure(figsize=(9, 9))\n",
        "fig.tight_layout()\n",
        "\n",
        "# ImageDataGenerator 결과 프린트\n",
        "for X_batch, y_batch in train_datagen.flow(X_train, y_train, batch_size=9, shuffle=True):\n",
        "  for i in range(9):\n",
        "    plt.subplot(3, 3, 1 + i)\n",
        "    plt.imshow(X_batch[i].reshape(28, 28), cmap=\"gray\", interpolation=\"none\")\n",
        "    plt.title(np.argmax(y_batch[i]))\n",
        "  plt.show()\n",
        "  break\n"
      ],
      "id": "fDskH_kINW6z",
      "execution_count": 18,
      "outputs": [
        {
          "output_type": "display_data",
          "data": {
            "image/png": "[encoded data removed]",
            "text/plain": [
              "<Figure size 648x648 with 9 Axes>"
            ]
          },
          "metadata": {
            "needs_background": "light"
          }
        }
      ]
    },
    {
      "cell_type": "code",
      "metadata": {
        "colab": {
          "base_uri": "https://localhost:8080/"
        },
        "id": "76de6936-69dc-4d31-998c-2e1e68707363",
        "outputId": "c042d422-4b56-4a89-e9af-0e35689d3b32"
      },
      "source": [
        "print(X_train.shape)\n",
        "print(X_val.shape)\n",
        "print(X_test.shape)\n",
        "print(y_train.shape)\n",
        "print(y_val.shape)\n",
        "print(y_test.shape)"
      ],
      "id": "76de6936-69dc-4d31-998c-2e1e68707363",
      "execution_count": 19,
      "outputs": [
        {
          "output_type": "stream",
          "name": "stdout",
          "text": [
            "(48000, 28, 28, 1)\n",
            "(12000, 28, 28, 1)\n",
            "(10000, 28, 28, 1)\n",
            "(48000, 10)\n",
            "(12000, 10)\n",
            "(10000, 10)\n"
          ]
        }
      ]
    },
    {
      "cell_type": "code",
      "metadata": {
        "colab": {
          "base_uri": "https://localhost:8080/"
        },
        "id": "acddba37-8622-4071-9d95-6749d6495429",
        "outputId": "54f3d225-d13b-4404-e4a9-188dc8b9efb1"
      },
      "source": [
        "inputs = Input(shape=(28, 28, 1)) # 없어도 될거같은데..?\n",
        "\n",
        "model = tf.keras.models.Sequential([\n",
        "    tf.keras.layers.Conv2D(64, (3,3), padding='same', input_shape=(28, 28, 1), activation='relu'),\n",
        "    tf.keras.layers.BatchNormalization(momentum=0.9, epsilon=1e-5, gamma_initializer=\"uniform\"),\n",
        "#    tf.keras.layers.LeakyReLU(alpha=0.1),\n",
        "    tf.keras.layers.Conv2D(64, (3,3), padding='same', activation='relu'),\n",
        "    tf.keras.layers.BatchNormalization(momentum=0.9, epsilon=1e-5, gamma_initializer=\"uniform\"),\n",
        "#    tf.keras.layers.ReLU(),\n",
        "    \n",
        "    tf.keras.layers.MaxPooling2D(2, 2),\n",
        "#    tf.keras.layers.Dropout(0.8),\n",
        "    \n",
        "    tf.keras.layers.Conv2D(128, (3,3), padding='same', activation='relu'),\n",
        "    tf.keras.layers.BatchNormalization(momentum=0.9, epsilon=1e-5, gamma_initializer=\"uniform\"),\n",
        "#    tf.keras.layers.LeakyReLU(alpha=0.1),\n",
        "    tf.keras.layers.Conv2D(128, (3,3), padding='same', activation='relu'),\n",
        "    tf.keras.layers.BatchNormalization(momentum=0.9, epsilon=1e-5, gamma_initializer=\"uniform\"),\n",
        "#    tf.keras.layers.ReLU(),\n",
        "    \n",
        "    tf.keras.layers.MaxPooling2D(2,2),\n",
        "#    tf.keras.layers.Dropout(0.8),\n",
        "\n",
        "    tf.keras.layers.Conv2D(256, (3,3), padding='same', activation='relu'),\n",
        "    tf.keras.layers.BatchNormalization(momentum=0.9, epsilon=1e-5, gamma_initializer=\"uniform\"),\n",
        "#    tf.keras.layers.LeakyReLU(alpha=0.1),\n",
        "    tf.keras.layers.Conv2D(256, (3,3), padding='same', activation='relu'),\n",
        "    tf.keras.layers.BatchNormalization(momentum=0.9, epsilon=1e-5, gamma_initializer=\"uniform\"),\n",
        "#    tf.keras.layers.ReLU(),\n",
        "    \n",
        "    tf.keras.layers.MaxPooling2D(2,2),\n",
        "#    tf.keras.layers.Dropout(0.8),\n",
        "    \n",
        "    tf.keras.layers.Flatten(),\n",
        "    tf.keras.layers.Dense(1024, activation='relu'),\n",
        " #   tf.keras.layers.LeakyReLU(alpha=0.1),\n",
        "    tf.keras.layers.Dense(1024, activation='relu'),\n",
        " #   tf.keras.layers.LeakyReLU(alpha=0.1),\n",
        "\n",
        "    tf.keras.layers.Dropout(0.6),\n",
        "    tf.keras.layers.Dense(10, activation='softmax')\n",
        "])\n",
        "\n",
        "model.summary()"
      ],
      "id": "acddba37-8622-4071-9d95-6749d6495429",
      "execution_count": 20,
      "outputs": [
        {
          "output_type": "stream",
          "name": "stdout",
          "text": [
            "Model: \"sequential_1\"\n",
            "_________________________________________________________________\n",
            "Layer (type)                 Output Shape              Param #   \n",
            "=================================================================\n",
            "conv2d_6 (Conv2D)            (None, 28, 28, 64)        640       \n",
            "_________________________________________________________________\n",
            "batch_normalization_6 (Batch (None, 28, 28, 64)        256       \n",
            "_________________________________________________________________\n",
            "conv2d_7 (Conv2D)            (None, 28, 28, 64)        36928     \n",
            "_________________________________________________________________\n",
            "batch_normalization_7 (Batch (None, 28, 28, 64)        256       \n",
            "_________________________________________________________________\n",
            "max_pooling2d_3 (MaxPooling2 (None, 14, 14, 64)        0         \n",
            "_________________________________________________________________\n",
            "conv2d_8 (Conv2D)            (None, 14, 14, 128)       73856     \n",
            "_________________________________________________________________\n",
            "batch_normalization_8 (Batch (None, 14, 14, 128)       512       \n",
            "_________________________________________________________________\n",
            "conv2d_9 (Conv2D)            (None, 14, 14, 128)       147584    \n",
            "_________________________________________________________________\n",
            "batch_normalization_9 (Batch (None, 14, 14, 128)       512       \n",
            "_________________________________________________________________\n",
            "max_pooling2d_4 (MaxPooling2 (None, 7, 7, 128)         0         \n",
            "_________________________________________________________________\n",
            "conv2d_10 (Conv2D)           (None, 7, 7, 256)         295168    \n",
            "_________________________________________________________________\n",
            "batch_normalization_10 (Batc (None, 7, 7, 256)         1024      \n",
            "_________________________________________________________________\n",
            "conv2d_11 (Conv2D)           (None, 7, 7, 256)         590080    \n",
            "_________________________________________________________________\n",
            "batch_normalization_11 (Batc (None, 7, 7, 256)         1024      \n",
            "_________________________________________________________________\n",
            "max_pooling2d_5 (MaxPooling2 (None, 3, 3, 256)         0         \n",
            "_________________________________________________________________\n",
            "flatten_1 (Flatten)          (None, 2304)              0         \n",
            "_________________________________________________________________\n",
            "dense_3 (Dense)              (None, 1024)              2360320   \n",
            "_________________________________________________________________\n",
            "dense_4 (Dense)              (None, 1024)              1049600   \n",
            "_________________________________________________________________\n",
            "dropout_1 (Dropout)          (None, 1024)              0         \n",
            "_________________________________________________________________\n",
            "dense_5 (Dense)              (None, 10)                10250     \n",
            "=================================================================\n",
            "Total params: 4,568,010\n",
            "Trainable params: 4,566,218\n",
            "Non-trainable params: 1,792\n",
            "_________________________________________________________________\n"
          ]
        }
      ]
    },
    {
      "cell_type": "code",
      "metadata": {
        "colab": {
          "base_uri": "https://localhost:8080/"
        },
        "id": "63e0e1e8-7819-43b0-a0fe-a684a66bb0c7",
        "outputId": "3311ed42-05a2-4b50-ab52-8565a4a86241"
      },
      "source": [
        "es = EarlyStopping(monitor='val_loss', min_delta=0.001, patience=5, verbose=1, mode='min')\n",
        "mc = ModelCheckpoint(\"best.ckpt\", monitor='val_loss', verbose=1, save_best_only=True, save_weight_only=True, mode='min', restore_best_weights=True)\n",
        "rl = ReduceLROnPlateau(monitor='val_loss', factor=0.2, patience=5, verbose=1, min_delta=0.0001, min_lr=0.00001)\n",
        "optim = Adam(learning_rate=0.005)\n",
        "model.compile(optimizer='adam', loss=\"categorical_crossentropy\", metrics=[\"accuracy\"])\n",
        "history = model.fit(train_flow, batch_size=256, epochs=30, validation_data=(X_val, y_val), verbose=1, callbacks=[es, mc, rl])"
      ],
      "id": "63e0e1e8-7819-43b0-a0fe-a684a66bb0c7",
      "execution_count": 21,
      "outputs": [
        {
          "output_type": "stream",
          "name": "stdout",
          "text": [
            "Epoch 1/30\n",
            "188/188 [==============================] - 28s 140ms/step - loss: 0.3390 - accuracy: 0.8873 - val_loss: 0.0785 - val_accuracy: 0.9772\n",
            "\n",
            "Epoch 00001: val_loss improved from inf to 0.07847, saving model to best.ckpt\n",
            "INFO:tensorflow:Assets written to: best.ckpt/assets\n",
            "Epoch 2/30\n",
            "188/188 [==============================] - 26s 138ms/step - loss: 0.0710 - accuracy: 0.9789 - val_loss: 0.0478 - val_accuracy: 0.9873\n",
            "\n",
            "Epoch 00002: val_loss improved from 0.07847 to 0.04782, saving model to best.ckpt\n",
            "INFO:tensorflow:Assets written to: best.ckpt/assets\n",
            "Epoch 3/30\n",
            "188/188 [==============================] - 26s 139ms/step - loss: 0.0554 - accuracy: 0.9836 - val_loss: 0.0570 - val_accuracy: 0.9849\n",
            "\n",
            "Epoch 00003: val_loss did not improve from 0.04782\n",
            "Epoch 4/30\n",
            "188/188 [==============================] - 26s 139ms/step - loss: 0.0514 - accuracy: 0.9849 - val_loss: 0.0387 - val_accuracy: 0.9886\n",
            "\n",
            "Epoch 00004: val_loss improved from 0.04782 to 0.03873, saving model to best.ckpt\n",
            "INFO:tensorflow:Assets written to: best.ckpt/assets\n",
            "Epoch 5/30\n",
            "188/188 [==============================] - 26s 139ms/step - loss: 0.0440 - accuracy: 0.9878 - val_loss: 0.0418 - val_accuracy: 0.9883\n",
            "\n",
            "Epoch 00005: val_loss did not improve from 0.03873\n",
            "Epoch 6/30\n",
            "188/188 [==============================] - 26s 140ms/step - loss: 0.0427 - accuracy: 0.9877 - val_loss: 0.0322 - val_accuracy: 0.9911\n",
            "\n",
            "Epoch 00006: val_loss improved from 0.03873 to 0.03225, saving model to best.ckpt\n",
            "INFO:tensorflow:Assets written to: best.ckpt/assets\n",
            "Epoch 7/30\n",
            "188/188 [==============================] - 26s 139ms/step - loss: 0.0345 - accuracy: 0.9902 - val_loss: 0.0253 - val_accuracy: 0.9930\n",
            "\n",
            "Epoch 00007: val_loss improved from 0.03225 to 0.02533, saving model to best.ckpt\n",
            "INFO:tensorflow:Assets written to: best.ckpt/assets\n",
            "Epoch 8/30\n",
            "188/188 [==============================] - 26s 139ms/step - loss: 0.0390 - accuracy: 0.9893 - val_loss: 0.0342 - val_accuracy: 0.9902\n",
            "\n",
            "Epoch 00008: val_loss did not improve from 0.02533\n",
            "Epoch 9/30\n",
            "188/188 [==============================] - 26s 140ms/step - loss: 0.0344 - accuracy: 0.9900 - val_loss: 0.0365 - val_accuracy: 0.9896\n",
            "\n",
            "Epoch 00009: val_loss did not improve from 0.02533\n",
            "Epoch 10/30\n",
            "188/188 [==============================] - 26s 140ms/step - loss: 0.0334 - accuracy: 0.9902 - val_loss: 0.0265 - val_accuracy: 0.9927\n",
            "\n",
            "Epoch 00010: val_loss did not improve from 0.02533\n",
            "Epoch 11/30\n",
            "188/188 [==============================] - 26s 140ms/step - loss: 0.0311 - accuracy: 0.9913 - val_loss: 0.0263 - val_accuracy: 0.9937\n",
            "\n",
            "Epoch 00011: val_loss did not improve from 0.02533\n",
            "Epoch 12/30\n",
            "188/188 [==============================] - 26s 140ms/step - loss: 0.0311 - accuracy: 0.9914 - val_loss: 0.0416 - val_accuracy: 0.9887\n",
            "\n",
            "Epoch 00012: val_loss did not improve from 0.02533\n",
            "\n",
            "Epoch 00012: ReduceLROnPlateau reducing learning rate to 0.00020000000949949026.\n",
            "Epoch 00012: early stopping\n"
          ]
        }
      ]
    },
    {
      "cell_type": "markdown",
      "metadata": {
        "id": "b174ec48-1ed8-4375-9acf-456470fe9ad2"
      },
      "source": [
        "위에 있는 모델은\n",
        "\n",
        "https://tobigs.gitbook.io/tobigs/deep-learning/undefined/advanced-neural-net-2\n",
        "\n",
        "이 링크의 SOPCNN 모델을\n",
        "\n",
        "https://paperswithcode.com/paper/stochastic-optimization-of-plain\n",
        "\n",
        "SOPCNN 논문에 맞게 수정한 모델입니다!\n",
        "\n",
        "최대 정확도 99.54%\n",
        "\n",
        "## Sources\n",
        "https://towardsdatascience.com/the-quest-of-higher-accuracy-for-cnn-models-42df5d731faf"
      ],
      "id": "b174ec48-1ed8-4375-9acf-456470fe9ad2"
    },
    {
      "cell_type": "code",
      "metadata": {
        "colab": {
          "base_uri": "https://localhost:8080/"
        },
        "id": "P8C8KGl0yznl",
        "outputId": "efd403db-3114-496d-85f6-69f0320b3dc2"
      },
      "source": [
        "model.load_weights(\"best.ckpt\")\n",
        "loss, acc = model.evaluate(X_test, y_test)\n",
        "print(\"Untrained model, accuracy: {:5.2f}%\".format(100*acc))"
      ],
      "id": "P8C8KGl0yznl",
      "execution_count": 22,
      "outputs": [
        {
          "output_type": "stream",
          "name": "stdout",
          "text": [
            "313/313 [==============================] - 3s 10ms/step - loss: 0.0166 - accuracy: 0.9954\n",
            "Untrained model, accuracy: 99.54%\n"
          ]
        }
      ]
    }
  ]
}
