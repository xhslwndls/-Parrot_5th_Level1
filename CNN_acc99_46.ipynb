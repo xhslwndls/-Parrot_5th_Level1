{
  "nbformat": 4,
  "nbformat_minor": 0,
  "metadata": {
    "colab": {
      "name": "CNN_acc99.46.ipynb",
      "provenance": [],
      "collapsed_sections": []
    },
    "kernelspec": {
      "name": "python3",
      "display_name": "Python 3"
    },
    "language_info": {
      "name": "python"
    },
    "accelerator": "GPU"
  },
  "cells": [
    {
      "cell_type": "code",
      "metadata": {
        "colab": {
          "base_uri": "https://localhost:8080/"
        },
        "id": "hItNP25M7Cig",
        "outputId": "2fd8b29d-4730-4619-cb95-481e166d6885"
      },
      "source": [
        "import tensorflow as tf\n",
        "import numpy as np\n",
        "import matplotlib.pyplot as plt\n",
        "\n",
        "(x_train, y_train), (x_test, y_test) = tf.keras.datasets.mnist.load_data()\n",
        "\n",
        "# 각종 파라메터의 영향을 보기 위해 랜덤값 고정\n",
        "tf.random.set_seed(1234)\n",
        "\n",
        "# Normalizing data\n",
        "x_train, x_test = x_train / 255.0, x_test / 255.0\n",
        "\n",
        "# (60000, 28, 28) => (60000, 28, 28, 1)로 reshape\n",
        "x_train = x_train.reshape(-1, 28, 28, 1)\n",
        "x_test = x_test.reshape(-1, 28, 28, 1)\n",
        "\n",
        "# One-hot 인코딩\n",
        "y_train = tf.keras.utils.to_categorical(y_train, 10)\n",
        "y_test = tf.keras.utils.to_categorical(y_test, 10)\n",
        "\n",
        "model = tf.keras.Sequential([\n",
        "    tf.keras.layers.Conv2D(kernel_size=(3,3), filters=64, input_shape=(28,28,1), padding='same', activation='relu'),\n",
        "    tf.keras.layers.Conv2D(kernel_size=(3,3), filters=64, padding='same', activation='relu'),\n",
        "    tf.keras.layers.MaxPool2D(pool_size=(2,2)),\n",
        "\n",
        "    tf.keras.layers.Conv2D(kernel_size=(3,3), filters=128, padding='same', activation='relu'),\n",
        "    tf.keras.layers.Conv2D(kernel_size=(3,3), filters=256, padding='valid', activation='relu'),\n",
        "    tf.keras.layers.MaxPool2D(pool_size=(2,2)),\n",
        "\n",
        "    tf.keras.layers.Flatten(),\n",
        "    tf.keras.layers.Dense(units=512, activation='relu'),\n",
        "    tf.keras.layers.Dropout(0.5),\n",
        "    tf.keras.layers.Dense(units=256, activation='relu'),\n",
        "    tf.keras.layers.Dropout(0.5),\n",
        "    tf.keras.layers.Dense(units=10, activation='softmax')\n",
        "])\n",
        "\n",
        "model.compile(loss='categorical_crossentropy', optimizer=tf.optimizers.Adam(lr=0.001), metrics=['accuracy'])\n",
        "model.summary()\n",
        "\n",
        "model.fit(x_train, y_train, batch_size=100, epochs=10, validation_data=(x_test, y_test))\n",
        "\n",
        "result = model.evaluate(x_test, y_test)\n",
        "print(\"최종 예측 성공률(%): \", result[1]*100)"
      ],
      "execution_count": 1,
      "outputs": [
        {
          "output_type": "stream",
          "name": "stdout",
          "text": [
            "Downloading data from https://storage.googleapis.com/tensorflow/tf-keras-datasets/mnist.npz\n",
            "11493376/11490434 [==============================] - 0s 0us/step\n",
            "11501568/11490434 [==============================] - 0s 0us/step\n"
          ]
        },
        {
          "output_type": "stream",
          "name": "stderr",
          "text": [
            "/usr/local/lib/python3.7/dist-packages/keras/optimizer_v2/optimizer_v2.py:356: UserWarning: The `lr` argument is deprecated, use `learning_rate` instead.\n",
            "  \"The `lr` argument is deprecated, use `learning_rate` instead.\")\n"
          ]
        },
        {
          "output_type": "stream",
          "name": "stdout",
          "text": [
            "Model: \"sequential\"\n",
            "_________________________________________________________________\n",
            "Layer (type)                 Output Shape              Param #   \n",
            "=================================================================\n",
            "conv2d (Conv2D)              (None, 28, 28, 64)        640       \n",
            "_________________________________________________________________\n",
            "conv2d_1 (Conv2D)            (None, 28, 28, 64)        36928     \n",
            "_________________________________________________________________\n",
            "max_pooling2d (MaxPooling2D) (None, 14, 14, 64)        0         \n",
            "_________________________________________________________________\n",
            "conv2d_2 (Conv2D)            (None, 14, 14, 128)       73856     \n",
            "_________________________________________________________________\n",
            "conv2d_3 (Conv2D)            (None, 12, 12, 256)       295168    \n",
            "_________________________________________________________________\n",
            "max_pooling2d_1 (MaxPooling2 (None, 6, 6, 256)         0         \n",
            "_________________________________________________________________\n",
            "flatten (Flatten)            (None, 9216)              0         \n",
            "_________________________________________________________________\n",
            "dense (Dense)                (None, 512)               4719104   \n",
            "_________________________________________________________________\n",
            "dropout (Dropout)            (None, 512)               0         \n",
            "_________________________________________________________________\n",
            "dense_1 (Dense)              (None, 256)               131328    \n",
            "_________________________________________________________________\n",
            "dropout_1 (Dropout)          (None, 256)               0         \n",
            "_________________________________________________________________\n",
            "dense_2 (Dense)              (None, 10)                2570      \n",
            "=================================================================\n",
            "Total params: 5,259,594\n",
            "Trainable params: 5,259,594\n",
            "Non-trainable params: 0\n",
            "_________________________________________________________________\n",
            "Epoch 1/10\n",
            "600/600 [==============================] - 53s 37ms/step - loss: 0.1859 - accuracy: 0.9428 - val_loss: 0.0420 - val_accuracy: 0.9859\n",
            "Epoch 2/10\n",
            "600/600 [==============================] - 22s 36ms/step - loss: 0.0545 - accuracy: 0.9841 - val_loss: 0.0253 - val_accuracy: 0.9917\n",
            "Epoch 3/10\n",
            "600/600 [==============================] - 22s 36ms/step - loss: 0.0391 - accuracy: 0.9891 - val_loss: 0.0264 - val_accuracy: 0.9924\n",
            "Epoch 4/10\n",
            "600/600 [==============================] - 22s 36ms/step - loss: 0.0292 - accuracy: 0.9918 - val_loss: 0.0219 - val_accuracy: 0.9936\n",
            "Epoch 5/10\n",
            "600/600 [==============================] - 22s 36ms/step - loss: 0.0248 - accuracy: 0.9928 - val_loss: 0.0197 - val_accuracy: 0.9940\n",
            "Epoch 6/10\n",
            "600/600 [==============================] - 22s 36ms/step - loss: 0.0251 - accuracy: 0.9930 - val_loss: 0.0200 - val_accuracy: 0.9930\n",
            "Epoch 7/10\n",
            "600/600 [==============================] - 22s 36ms/step - loss: 0.0199 - accuracy: 0.9944 - val_loss: 0.0231 - val_accuracy: 0.9937\n",
            "Epoch 8/10\n",
            "600/600 [==============================] - 22s 36ms/step - loss: 0.0175 - accuracy: 0.9949 - val_loss: 0.0254 - val_accuracy: 0.9938\n",
            "Epoch 9/10\n",
            "600/600 [==============================] - 21s 36ms/step - loss: 0.0148 - accuracy: 0.9959 - val_loss: 0.0241 - val_accuracy: 0.9933\n",
            "Epoch 10/10\n",
            "600/600 [==============================] - 21s 36ms/step - loss: 0.0132 - accuracy: 0.9960 - val_loss: 0.0234 - val_accuracy: 0.9946\n",
            "313/313 [==============================] - 3s 8ms/step - loss: 0.0234 - accuracy: 0.9946\n",
            "최종 예측 성공률(%):  99.4599997997284\n"
          ]
        }
      ]
    }
  ]
}