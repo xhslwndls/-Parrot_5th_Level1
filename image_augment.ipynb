{
  "nbformat": 4,
  "nbformat_minor": 5,
  "metadata": {
    "kernelspec": {
      "display_name": "Python 3",
      "language": "python",
      "name": "python3"
    },
    "language_info": {
      "codemirror_mode": {
        "name": "ipython",
        "version": 3
      },
      "file_extension": ".py",
      "mimetype": "text/x-python",
      "name": "python",
      "nbconvert_exporter": "python",
      "pygments_lexer": "ipython3",
      "version": "3.8.8"
    },
    "colab": {
      "name": "Mini-Contest 1.ipynb",
      "provenance": []
    }
  },
  "cells": [
    {
      "cell_type": "code",
      "metadata": {
        "id": "e7a4a366-f470-4768-a6f7-a75ca53c48dc",
        "colab": {
          "base_uri": "https://localhost:8080/"
        },
        "outputId": "d781a95e-b230-4843-844b-1840b8c9492f"
      },
      "source": [
        "!pip install einops\n",
        "\n",
        "import numpy as np\n",
        "import pandas as pd\n",
        "import tensorflow as tf\n",
        "import matplotlib.pyplot as plt\n",
        "\n",
        "from tensorflow.data import Dataset\n",
        "from tensorflow.keras.models import Model\n",
        "from tensorflow.keras.utils import to_categorical\n",
        "from tensorflow.keras.optimizers import Adam, RMSprop\n",
        "from tensorflow.keras.layers import Input, Dense, Conv2D, Dropout, Flatten, Activation, MaxPooling2D, BatchNormalization\n",
        "from tensorflow.keras.preprocessing.image import ImageDataGenerator\n",
        "from tensorflow.keras.callbacks import EarlyStopping\n",
        "from tensorflow.keras import layers\n",
        "\n",
        "from einops import rearrange\n",
        "from sklearn.model_selection import train_test_split"
      ],
      "id": "e7a4a366-f470-4768-a6f7-a75ca53c48dc",
      "execution_count": null,
      "outputs": [
        {
          "output_type": "stream",
          "name": "stdout",
          "text": [
            "Collecting einops\n",
            "  Downloading einops-0.3.2-py3-none-any.whl (25 kB)\n",
            "Installing collected packages: einops\n",
            "Successfully installed einops-0.3.2\n"
          ]
        }
      ]
    },
    {
      "cell_type": "markdown",
      "metadata": {
        "id": "a794c2db-17e6-42c2-bb26-7e22941226e5"
      },
      "source": [
        "## Import Data"
      ],
      "id": "a794c2db-17e6-42c2-bb26-7e22941226e5"
    },
    {
      "cell_type": "code",
      "metadata": {
        "id": "f89da516-7b1f-4454-a641-09371f0a3632",
        "colab": {
          "base_uri": "https://localhost:8080/"
        },
        "outputId": "449c9572-250f-4818-96dd-15278fcd6431"
      },
      "source": [
        "(X_train, y_train), (X_test, y_test) = tf.keras.datasets.mnist.load_data()"
      ],
      "id": "f89da516-7b1f-4454-a641-09371f0a3632",
      "execution_count": null,
      "outputs": [
        {
          "output_type": "stream",
          "name": "stdout",
          "text": [
            "Downloading data from https://storage.googleapis.com/tensorflow/tf-keras-datasets/mnist.npz\n",
            "11493376/11490434 [==============================] - 0s 0us/step\n",
            "11501568/11490434 [==============================] - 0s 0us/step\n"
          ]
        }
      ]
    },
    {
      "cell_type": "markdown",
      "metadata": {
        "id": "7e38adb8-6b62-4b01-a58c-ec00d21271e9"
      },
      "source": [
        "## Observe Data"
      ],
      "id": "7e38adb8-6b62-4b01-a58c-ec00d21271e9"
    },
    {
      "cell_type": "code",
      "metadata": {
        "id": "f69f4a1e-95c1-4b7b-b436-09b1d2b39cb9",
        "colab": {
          "base_uri": "https://localhost:8080/"
        },
        "outputId": "703bdfbb-dee2-42a4-ddfc-47ebe5910dca"
      },
      "source": [
        "print('X_train: ', X_train.shape)\n",
        "print('X_test: ', X_test.shape)"
      ],
      "id": "f69f4a1e-95c1-4b7b-b436-09b1d2b39cb9",
      "execution_count": null,
      "outputs": [
        {
          "output_type": "stream",
          "name": "stdout",
          "text": [
            "X_train:  (60000, 28, 28)\n",
            "X_test:  (10000, 28, 28)\n"
          ]
        }
      ]
    },
    {
      "cell_type": "code",
      "metadata": {
        "id": "df3cd358-d442-419b-8f15-1a59f8233d0f",
        "colab": {
          "base_uri": "https://localhost:8080/",
          "height": 657
        },
        "outputId": "0f514d74-cb3d-4c8e-c630-07e61fbf7626"
      },
      "source": [
        "fig = plt.figure(figsize=(9, 9))\n",
        "\n",
        "for i in range(9):\n",
        "    plt.subplot(3, 3, 1 + i)\n",
        "    plt.tight_layout()\n",
        "    plt.imshow(X_train[i], cmap=\"gray\", interpolation=\"none\")\n",
        "    target = y_train[i]\n",
        "    plt.title(\"Ground Truth: {}\".format(int(target)))\n",
        "\n",
        "plt.show()"
      ],
      "id": "df3cd358-d442-419b-8f15-1a59f8233d0f",
      "execution_count": null,
      "outputs": [
        {
          "output_type": "display_data",
          "data": {
            "image/png": "[encoded data removed]",
            "text/plain": [
              "<Figure size 648x648 with 9 Axes>"
            ]
          },
          "metadata": {
            "needs_background": "light"
          }
        }
      ]
    },
    {
      "cell_type": "markdown",
      "metadata": {
        "id": "16f8e74d-61e3-4c81-b966-271e0ccc58c7"
      },
      "source": [
        "## Preprocessing"
      ],
      "id": "16f8e74d-61e3-4c81-b966-271e0ccc58c7"
    },
    {
      "cell_type": "code",
      "metadata": {
        "id": "bde59564-7b3f-450c-b7b2-8cd00f4a55ca"
      },
      "source": [
        "target_size = 10   # 0 ~ 9, 총 9개\n",
        "\n",
        "### 주의: 흑백 데이터여도 channel 차원을 살려주어야 정상적으로 작동합니다\n",
        "X_train = rearrange(X_train, \"b h w -> b h w 1\")\n",
        "X_test = rearrange(X_test, \"b h w -> b h w 1\")\n",
        "\n",
        "X_train = X_train.astype(\"float32\") / (2 ** 8 - 1)   # 255로 scaling\n",
        "X_test = X_test.astype(\"float32\") / (2 ** 8 - 1)     # 255로 scaling\n",
        "\n",
        "y_train = to_categorical(y_train, target_size)       # 타겟을 정수로 변환\n",
        "y_test = to_categorical(y_test, target_size) "
      ],
      "id": "bde59564-7b3f-450c-b7b2-8cd00f4a55ca",
      "execution_count": null,
      "outputs": []
    },
    {
      "cell_type": "code",
      "metadata": {
        "id": "fd1752df-ae19-4191-adc3-9014236da8b5"
      },
      "source": [
        "X_train, X_val, y_train, y_val = train_test_split(X_train, y_train, test_size=0.2)"
      ],
      "id": "fd1752df-ae19-4191-adc3-9014236da8b5",
      "execution_count": null,
      "outputs": []
    },
    {
      "cell_type": "markdown",
      "metadata": {
        "id": "ROM3fhYDSt7y"
      },
      "source": [
        "#ImageDataGenerator를 사용한 이미지 전처리(augmentation) 예제\n",
        "\n",
        "\n",
        "자세한 설명은\n",
        "\n",
        "https://keras.io/ko/preprocessing/image/\n",
        "\n",
        "여기를 참고해 주세요!\n",
        "\n",
        "** epoch당 ETA는 약 1시간입니다. 쓰려면 차라리 이걸 쓰세요.. 근데 그냥 쓰지 마세요... **"
      ],
      "id": "ROM3fhYDSt7y"
    },
    {
      "cell_type": "code",
      "metadata": {
        "id": "fDskH_kINW6z",
        "colab": {
          "base_uri": "https://localhost:8080/",
          "height": 553
        },
        "outputId": "0e877b9e-77fd-41ad-c64f-101ac596653c"
      },
      "source": [
        "# 전처리에 사용할 ImageDataGenerator 만들기\n",
        "# 같은 방식으로 valid data도 전처리할 수 있습니다! 보통은 rotation만 사용하는 것\n",
        "train_datagen = ImageDataGenerator(rotation_range=40,         # 무작위 회전 각도\n",
        "                                   width_shift_range=0.1,     # 가로 shift 비율 (전체 너비 대비 비율)\n",
        "                                   height_shift_range=0.1,    # 세로 shift 비율\n",
        "                                   brightness_range=None,     # 밝기 변환 범위 ex) (0.2, 0.8)\n",
        "                                   zoom_range=0.0,            # 확대 비율 (소수 1개 혹은 범위 지정 가능)\n",
        "                                   horizontal_flip=False,     # 무작위 수평 전환\n",
        "                                   vertical_flip=False,       # 무작위 수직 전환 (50% 확률)\n",
        "                                   rescale=None)              # 크기 재조절 인수 (보통 1./255를 많이 사용하지만 같은 비율로 valid data도 처리해줘야함)\n",
        "# val_datagen = ImageDataGenerator(recale=1./255)\n",
        "\n",
        "train_flow = train_datagen.flow(X_train, y_train, batch_size=256, shuffle=True)\n",
        "# val_flow = val_datagen.flow(X_val, y_val, batch_size=256, shuffle=False)\n",
        "\n",
        "fig = plt.figure(figsize=(9, 9))\n",
        "fig.tight_layout()\n",
        "\n",
        "# ImageDataGenerator 결과 프린트\n",
        "for X_batch, y_batch in train_datagen.flow(X_train, y_train, batch_size=9, shuffle=True):\n",
        "  for i in range(9):\n",
        "    plt.subplot(3, 3, 1 + i)\n",
        "    plt.imshow(X_batch[i].reshape(28, 28), cmap=\"gray\", interpolation=\"none\")\n",
        "    plt.title(np.argmax(y_batch[i]))\n",
        "  plt.show()\n",
        "  break\n"
      ],
      "id": "fDskH_kINW6z",
      "execution_count": null,
      "outputs": [
        {
          "output_type": "display_data",
          "data": {
            "image/png": "[encoded data removed]",
            "text/plain": [
              "<Figure size 648x648 with 9 Axes>"
            ]
          },
          "metadata": {
            "needs_background": "light"
          }
        }
      ]
    },
    {
      "cell_type": "markdown",
      "metadata": {
        "id": "sTaIawmsBYw2"
      },
      "source": [
        "# Preprocessing layer를 사용한 이미지 전처리 예제\n",
        "\n",
        "https://www.tensorflow.org/guide/keras/preprocessing_layers\n",
        "\n",
        "https://ichi.pro/ko/imagedatageneratorboda-tensorflow-deiteoleul-seontaeghal-sigan-36689109001269\n",
        "\n",
        "여기를 참고했습니다!\n",
        "\n",
        "** 배경에 노이즈가 발생하는 경우가 있고 epoch당 ETA는 약 8시간입니다. **\n",
        "\n",
        "웬만하면 쓰지 마세요....\n"
      ],
      "id": "sTaIawmsBYw2"
    },
    {
      "cell_type": "code",
      "metadata": {
        "colab": {
          "base_uri": "https://localhost:8080/",
          "height": 553
        },
        "id": "TVsRCnsLBbNw",
        "outputId": "3b26f251-6e3c-4fce-b7e7-aec6f41ee319"
      },
      "source": [
        "# 데이터 전처리하기 (preprocessing layer를 사용한 모델)\n",
        "\n",
        "data_augmentation = tf.keras.Sequential([\n",
        "#  layers.experimental.preprocessing.RandomFlip(\"horizontal_and_vertical\"),\n",
        "#  layers.experimental.preprocessing.Rescaling(1./255),\n",
        "  layers.experimental.preprocessing.RandomRotation(0.2), \n",
        "  layers.experimental.preprocessing.RandomZoom(height_factor=(0.2, 0.3), width_factor=(0.2, 0.3), fill_mode='nearest')\n",
        "#  layers.experimental.preprocessing.RandomTranslation(0.3, 0.3, fill_mode='reflect', interpolation='bilinear',)\n",
        "])\n",
        "\n",
        "aug_image = data_augmentation(X_train)\n",
        "\n",
        "###\n",
        "\n",
        "fig = plt.figure(figsize=(9, 9))\n",
        "fig.tight_layout()\n",
        "\n",
        "# 예시 프린트\n",
        "for i in range(9):\n",
        "  plt.subplot(3, 3, 1 + i)\n",
        "  plt.imshow(tf.reshape(aug_image[i],[28,28]), cmap=\"gray\", interpolation=\"none\")\n",
        "  plt.title(np.argmax(y_train[i]))\n",
        "plt.show()\n"
      ],
      "id": "TVsRCnsLBbNw",
      "execution_count": null,
      "outputs": [
        {
          "output_type": "display_data",
          "data": {
            "image/png": "[encoded data removed]",
            "text/plain": [
              "<Figure size 648x648 with 9 Axes>"
            ]
          },
          "metadata": {
            "needs_background": "light"
          }
        }
      ]
    },
    {
      "cell_type": "code",
      "metadata": {
        "id": "76de6936-69dc-4d31-998c-2e1e68707363",
        "colab": {
          "base_uri": "https://localhost:8080/"
        },
        "outputId": "0a92880d-7e8b-452d-9e07-459be0478609"
      },
      "source": [
        "print(X_train.shape)\n",
        "print(X_val.shape)\n",
        "print(X_test.shape)\n",
        "print(y_train.shape)\n",
        "print(y_val.shape)\n",
        "print(y_test.shape)"
      ],
      "id": "76de6936-69dc-4d31-998c-2e1e68707363",
      "execution_count": null,
      "outputs": [
        {
          "output_type": "stream",
          "name": "stdout",
          "text": [
            "(48000, 28, 28, 1)\n",
            "(12000, 28, 28, 1)\n",
            "(10000, 28, 28, 1)\n",
            "(48000, 10)\n",
            "(12000, 10)\n",
            "(10000, 10)\n"
          ]
        }
      ]
    },
    {
      "cell_type": "code",
      "metadata": {
        "id": "acddba37-8622-4071-9d95-6749d6495429",
        "colab": {
          "base_uri": "https://localhost:8080/"
        },
        "outputId": "505f3340-97a2-46f2-964b-6f5469ce0400"
      },
      "source": [
        "inputs = Input(shape=(28, 28, 1))\n",
        "\n",
        "X = Conv2D(filters=512, kernel_size=(5, 5), padding=\"Same\")(inputs)\n",
        "X = BatchNormalization()(X)\n",
        "X = Activation(\"relu\")(X)\n",
        "X = Conv2D(filters=512, kernel_size=(5, 5), padding=\"Same\", activation=\"relu\")(X)\n",
        "X = Dropout(0.5)(X)\n",
        "X = MaxPooling2D(pool_size=(2, 2), strides=(2, 2))(X)\n",
        "\n",
        "X = Conv2D(filters=256, kernel_size=(5, 5), padding=\"Same\")(X)\n",
        "X = BatchNormalization()(X)\n",
        "X = Activation(\"relu\")(X)\n",
        "X = Conv2D(filters=128, kernel_size=(5, 5), padding=\"Same\", activation=\"relu\")(X)\n",
        "X = Dropout(0.5)(X)\n",
        "X = MaxPooling2D(pool_size=(2, 2), strides=(2, 2))(X)\n",
        "\n",
        "X = Conv2D(filters=64, kernel_size=(3, 3), padding=\"Same\")(X)\n",
        "X = BatchNormalization()(X)\n",
        "X = Activation(\"relu\")(X)\n",
        "X = Conv2D(filters=64, kernel_size=(3, 3), padding=\"Same\", activation=\"relu\")(X)\n",
        "X = Dropout(0.3)(X)\n",
        "X = MaxPooling2D(pool_size=(2, 2), strides=(2, 2))(X)\n",
        "\n",
        "X = Flatten()(X)\n",
        "X = Dense(1024, activation=\"relu\")(X)\n",
        "X = BatchNormalization()(X)\n",
        "X = Dropout(0.2)(X)\n",
        "X = Dense(256, activation=\"relu\")(X)\n",
        "X = BatchNormalization()(X)\n",
        "X = Dropout(0.2)(X)\n",
        "outputs = Dense(10, activation=\"softmax\")(X)\n",
        "\n",
        "model = Model(inputs=inputs, outputs=outputs)\n",
        "model.summary()"
      ],
      "id": "acddba37-8622-4071-9d95-6749d6495429",
      "execution_count": null,
      "outputs": [
        {
          "output_type": "stream",
          "name": "stdout",
          "text": [
            "Model: \"model\"\n",
            "_________________________________________________________________\n",
            "Layer (type)                 Output Shape              Param #   \n",
            "=================================================================\n",
            "input_1 (InputLayer)         [(None, 28, 28, 1)]       0         \n",
            "_________________________________________________________________\n",
            "conv2d (Conv2D)              (None, 28, 28, 512)       13312     \n",
            "_________________________________________________________________\n",
            "batch_normalization (BatchNo (None, 28, 28, 512)       2048      \n",
            "_________________________________________________________________\n",
            "activation (Activation)      (None, 28, 28, 512)       0         \n",
            "_________________________________________________________________\n",
            "conv2d_1 (Conv2D)            (None, 28, 28, 512)       6554112   \n",
            "_________________________________________________________________\n",
            "dropout (Dropout)            (None, 28, 28, 512)       0         \n",
            "_________________________________________________________________\n",
            "max_pooling2d (MaxPooling2D) (None, 14, 14, 512)       0         \n",
            "_________________________________________________________________\n",
            "conv2d_2 (Conv2D)            (None, 14, 14, 256)       3277056   \n",
            "_________________________________________________________________\n",
            "batch_normalization_1 (Batch (None, 14, 14, 256)       1024      \n",
            "_________________________________________________________________\n",
            "activation_1 (Activation)    (None, 14, 14, 256)       0         \n",
            "_________________________________________________________________\n",
            "conv2d_3 (Conv2D)            (None, 14, 14, 128)       819328    \n",
            "_________________________________________________________________\n",
            "dropout_1 (Dropout)          (None, 14, 14, 128)       0         \n",
            "_________________________________________________________________\n",
            "max_pooling2d_1 (MaxPooling2 (None, 7, 7, 128)         0         \n",
            "_________________________________________________________________\n",
            "conv2d_4 (Conv2D)            (None, 7, 7, 64)          73792     \n",
            "_________________________________________________________________\n",
            "batch_normalization_2 (Batch (None, 7, 7, 64)          256       \n",
            "_________________________________________________________________\n",
            "activation_2 (Activation)    (None, 7, 7, 64)          0         \n",
            "_________________________________________________________________\n",
            "conv2d_5 (Conv2D)            (None, 7, 7, 64)          36928     \n",
            "_________________________________________________________________\n",
            "dropout_2 (Dropout)          (None, 7, 7, 64)          0         \n",
            "_________________________________________________________________\n",
            "max_pooling2d_2 (MaxPooling2 (None, 3, 3, 64)          0         \n",
            "_________________________________________________________________\n",
            "flatten (Flatten)            (None, 576)               0         \n",
            "_________________________________________________________________\n",
            "dense (Dense)                (None, 1024)              590848    \n",
            "_________________________________________________________________\n",
            "batch_normalization_3 (Batch (None, 1024)              4096      \n",
            "_________________________________________________________________\n",
            "dropout_3 (Dropout)          (None, 1024)              0         \n",
            "_________________________________________________________________\n",
            "dense_1 (Dense)              (None, 256)               262400    \n",
            "_________________________________________________________________\n",
            "batch_normalization_4 (Batch (None, 256)               1024      \n",
            "_________________________________________________________________\n",
            "dropout_4 (Dropout)          (None, 256)               0         \n",
            "_________________________________________________________________\n",
            "dense_2 (Dense)              (None, 10)                2570      \n",
            "=================================================================\n",
            "Total params: 11,638,794\n",
            "Trainable params: 11,634,570\n",
            "Non-trainable params: 4,224\n",
            "_________________________________________________________________\n"
          ]
        }
      ]
    },
    {
      "cell_type": "code",
      "metadata": {
        "id": "63e0e1e8-7819-43b0-a0fe-a684a66bb0c7",
        "colab": {
          "base_uri": "https://localhost:8080/"
        },
        "outputId": "c39089c3-d1a2-40fe-d022-8f3d5026130c"
      },
      "source": [
        "model.compile(optimizer=RMSprop(1e-4), loss=\"categorical_crossentropy\", metrics=[\"accuracy\"])\n",
        "\n",
        "# ImageDataGenerator로 전처리한 train_flow를 사용해 학습합니다\n",
        "# valid data도 전처리할 경우 validatioin_data=val_flow로 바꿔주세요\n",
        "history = model.fit(train_flow, batch_size=256, epochs=15, validation_data=(X_val, y_val), verbose=1)\n",
        "\n",
        "# (preprocessing layer) 전처리한 데이터를 사용해 학습합니다\n",
        "history = model.fit(aug_image, y_train, batch_size=256, epochs=15, validation_data=(X_val, y_val), verbose=1)"
      ],
      "id": "63e0e1e8-7819-43b0-a0fe-a684a66bb0c7",
      "execution_count": null,
      "outputs": [
        {
          "output_type": "stream",
          "name": "stdout",
          "text": [
            "Epoch 1/15\n",
            " 12/188 [>.............................] - ETA: 8:06:43 - loss: 2.6734 - accuracy: 0.1914"
          ]
        }
      ]
    },
    {
      "cell_type": "markdown",
      "metadata": {
        "id": "b174ec48-1ed8-4375-9acf-456470fe9ad2"
      },
      "source": [
        "## Sources\n",
        "https://towardsdatascience.com/the-quest-of-higher-accuracy-for-cnn-models-42df5d731faf"
      ],
      "id": "b174ec48-1ed8-4375-9acf-456470fe9ad2"
    },
    {
      "cell_type": "code",
      "metadata": {
        "id": "41a005c0-7acf-4574-9a95-360cea98f3d4"
      },
      "source": [
        ""
      ],
      "id": "41a005c0-7acf-4574-9a95-360cea98f3d4",
      "execution_count": null,
      "outputs": []
    }
  ]
}