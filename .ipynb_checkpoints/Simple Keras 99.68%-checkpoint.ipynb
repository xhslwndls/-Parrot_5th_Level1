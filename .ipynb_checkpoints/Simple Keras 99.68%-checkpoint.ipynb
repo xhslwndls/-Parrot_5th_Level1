{
 "cells": [
  {
   "cell_type": "code",
   "execution_count": 1,
   "id": "e7a4a366-f470-4768-a6f7-a75ca53c48dc",
   "metadata": {},
   "outputs": [],
   "source": [
    "import numpy as np\n",
    "import pandas as pd\n",
    "import tensorflow as tf\n",
    "import matplotlib.pyplot as plt\n",
    "\n",
    "from tensorflow.data import Dataset\n",
    "from tensorflow import keras\n",
    "from keras.models import Sequential\n",
    "from tensorflow.keras.models import Model\n",
    "from tensorflow.keras.utils import to_categorical\n",
    "from tensorflow.keras.optimizers import Adam, RMSprop\n",
    "from tensorflow.keras.layers import Input, Dense, Conv2D, Dropout, Flatten, Activation, MaxPooling2D, BatchNormalization\n",
    "\n",
    "from einops import rearrange\n",
    "from sklearn.model_selection import train_test_split"
   ]
  },
  {
   "cell_type": "markdown",
   "id": "a794c2db-17e6-42c2-bb26-7e22941226e5",
   "metadata": {},
   "source": [
    "## Import Data"
   ]
  },
  {
   "cell_type": "code",
   "execution_count": 2,
   "id": "f89da516-7b1f-4454-a641-09371f0a3632",
   "metadata": {},
   "outputs": [],
   "source": [
    "(X_train, y_train), (X_test, y_test) = tf.keras.datasets.mnist.load_data()"
   ]
  },
  {
   "cell_type": "markdown",
   "id": "7e38adb8-6b62-4b01-a58c-ec00d21271e9",
   "metadata": {},
   "source": [
    "## Observe Data"
   ]
  },
  {
   "cell_type": "code",
   "execution_count": 3,
   "id": "f69f4a1e-95c1-4b7b-b436-09b1d2b39cb9",
   "metadata": {},
   "outputs": [
    {
     "name": "stdout",
     "output_type": "stream",
     "text": [
      "X_train:  (60000, 28, 28)\n",
      "X_test:  (10000, 28, 28)\n"
     ]
    }
   ],
   "source": [
    "print('X_train: ', X_train.shape)\n",
    "print('X_test: ', X_test.shape)"
   ]
  },
  {
   "cell_type": "code",
   "execution_count": 4,
   "id": "df3cd358-d442-419b-8f15-1a59f8233d0f",
   "metadata": {},
   "outputs": [
    {
     "data": {
      "image/png": "[encoded data removed]",
      "text/plain": [
       "<Figure size 648x648 with 9 Axes>"
      ]
     },
     "metadata": {
      "needs_background": "light"
     },
     "output_type": "display_data"
    }
   ],
   "source": [
    "fig = plt.figure(figsize=(9, 9))\n",
    "\n",
    "for i in range(9):\n",
    "    plt.subplot(3, 3, 1 + i)\n",
    "    plt.tight_layout()\n",
    "    plt.imshow(X_train[i], cmap=\"gray\", interpolation=\"none\")\n",
    "    target = y_train[i]\n",
    "    plt.title(\"Ground Truth: {}\".format(int(target)))\n",
    "\n",
    "plt.show()"
   ]
  },
  {
   "cell_type": "markdown",
   "id": "16f8e74d-61e3-4c81-b966-271e0ccc58c7",
   "metadata": {},
   "source": [
    "## Preprocessing"
   ]
  },
  {
   "cell_type": "code",
   "execution_count": 5,
   "id": "bde59564-7b3f-450c-b7b2-8cd00f4a55ca",
   "metadata": {},
   "outputs": [],
   "source": [
    "target_size = 10   # 0 ~ 9, 총 9개\n",
    "\n",
    "### 주의: 흑백 데이터여도 channel 차원을 살려주어야 정상적으로 작동합니다\n",
    "\n",
    "X_train = rearrange(X_train, \"b h w -> b h w 1\")\n",
    "X_test = rearrange(X_test, \"b h w -> b h w 1\")\n",
    "\n",
    "\n",
    "datagen = tf.keras.preprocessing.image.ImageDataGenerator(\n",
    "            featurewise_center=False,  # set input mean to 0 over the dataset\n",
    "            samplewise_center=False,  # set each sample mean to 0\n",
    "            featurewise_std_normalization=False,  # divide inputs by std of the dataset\n",
    "            samplewise_std_normalization=False,  # divide each input by its std\n",
    "            rotation_range=10,  # randomly rotate images in the range (degrees, 0 to 180)\n",
    "            zoom_range = 0.1, # Randomly zoom image \n",
    "            width_shift_range=0.1,  # randomly shift images horizontally (fraction of total width)\n",
    "            height_shift_range=0.1,  # randomly shift images vertically (fraction of total height)\n",
    "            horizontal_flip=False,  # randomly flip images\n",
    "            vertical_flip=False)  # randomly flip images\n",
    "\n",
    "X_train = X_train.astype(\"float32\") / (2 ** 8 - 1)   # 255로 scaling\n",
    "X_test = X_test.astype(\"float32\") / (2 ** 8 - 1)     # 255로 scaling\n",
    "\n",
    "datagen.fit(X_train)\n",
    "\n",
    "y_train = to_categorical(y_train, target_size)       # 타겟을 정수로 변환\n",
    "y_test = to_categorical(y_test, target_size) "
   ]
  },
  {
   "cell_type": "code",
   "execution_count": 6,
   "id": "fd1752df-ae19-4191-adc3-9014236da8b5",
   "metadata": {},
   "outputs": [],
   "source": [
    "X_train, X_val, y_train, y_val = train_test_split(X_train, y_train, test_size=0.2)"
   ]
  },
  {
   "cell_type": "code",
   "execution_count": 7,
   "id": "76de6936-69dc-4d31-998c-2e1e68707363",
   "metadata": {},
   "outputs": [
    {
     "name": "stdout",
     "output_type": "stream",
     "text": [
      "(48000, 28, 28, 1)\n",
      "(12000, 28, 28, 1)\n",
      "(10000, 28, 28, 1)\n",
      "(48000, 10)\n",
      "(12000, 10)\n",
      "(10000, 10)\n"
     ]
    }
   ],
   "source": [
    "print(X_train.shape)\n",
    "print(X_val.shape)\n",
    "print(X_test.shape)\n",
    "print(y_train.shape)\n",
    "print(y_val.shape)\n",
    "print(y_test.shape)"
   ]
  },
  {
   "cell_type": "code",
   "execution_count": 8,
   "id": "435783ea-05e0-4f2c-954d-f8e825616044",
   "metadata": {},
   "outputs": [
    {
     "name": "stdout",
     "output_type": "stream",
     "text": [
      "Model: \"sequential\"\n",
      "_________________________________________________________________\n",
      "Layer (type)                 Output Shape              Param #   \n",
      "=================================================================\n",
      "conv2d (Conv2D)              (None, 28, 28, 32)        320       \n",
      "_________________________________________________________________\n",
      "batch_normalization (BatchNo (None, 28, 28, 32)        128       \n",
      "_________________________________________________________________\n",
      "conv2d_1 (Conv2D)            (None, 28, 28, 32)        9248      \n",
      "_________________________________________________________________\n",
      "batch_normalization_1 (Batch (None, 28, 28, 32)        128       \n",
      "_________________________________________________________________\n",
      "max_pooling2d (MaxPooling2D) (None, 14, 14, 32)        0         \n",
      "_________________________________________________________________\n",
      "dropout (Dropout)            (None, 14, 14, 32)        0         \n",
      "_________________________________________________________________\n",
      "conv2d_2 (Conv2D)            (None, 14, 14, 64)        18496     \n",
      "_________________________________________________________________\n",
      "batch_normalization_2 (Batch (None, 14, 14, 64)        256       \n",
      "_________________________________________________________________\n",
      "conv2d_3 (Conv2D)            (None, 14, 14, 64)        36928     \n",
      "_________________________________________________________________\n",
      "batch_normalization_3 (Batch (None, 14, 14, 64)        256       \n",
      "_________________________________________________________________\n",
      "max_pooling2d_1 (MaxPooling2 (None, 7, 7, 64)          0         \n",
      "_________________________________________________________________\n",
      "dropout_1 (Dropout)          (None, 7, 7, 64)          0         \n",
      "_________________________________________________________________\n",
      "flatten (Flatten)            (None, 3136)              0         \n",
      "_________________________________________________________________\n",
      "dense (Dense)                (None, 512)               1606144   \n",
      "_________________________________________________________________\n",
      "batch_normalization_4 (Batch (None, 512)               2048      \n",
      "_________________________________________________________________\n",
      "dropout_2 (Dropout)          (None, 512)               0         \n",
      "_________________________________________________________________\n",
      "dense_1 (Dense)              (None, 1024)              525312    \n",
      "_________________________________________________________________\n",
      "batch_normalization_5 (Batch (None, 1024)              4096      \n",
      "_________________________________________________________________\n",
      "dropout_3 (Dropout)          (None, 1024)              0         \n",
      "_________________________________________________________________\n",
      "dense_2 (Dense)              (None, 10)                10250     \n",
      "=================================================================\n",
      "Total params: 2,213,610\n",
      "Trainable params: 2,210,154\n",
      "Non-trainable params: 3,456\n",
      "_________________________________________________________________\n"
     ]
    }
   ],
   "source": [
    "model = Sequential()\n",
    "\n",
    "model.add(Conv2D(filters=32, kernel_size=(3, 3), activation='relu', strides=1, padding='same', data_format='channels_last',\n",
    "                 input_shape=(28,28,1)))\n",
    "model.add(BatchNormalization())\n",
    "model.add(Conv2D(filters=32, kernel_size=(3, 3), activation='relu', strides=1, padding='same', data_format='channels_last'))\n",
    "model.add(BatchNormalization())\n",
    "model.add(MaxPooling2D(pool_size=(2, 2), strides=2, padding='valid' ))\n",
    "model.add(Dropout(0.25))\n",
    "\n",
    "model.add(Conv2D(filters=64, kernel_size=(3, 3), activation='relu', strides=1, padding='same', data_format='channels_last'))\n",
    "model.add(BatchNormalization())\n",
    "model.add(Conv2D(filters=64, kernel_size=(3, 3), strides=1, padding='same', activation='relu', data_format='channels_last'))\n",
    "model.add(BatchNormalization())\n",
    "model.add(MaxPooling2D(pool_size=(2, 2), padding='valid', strides=2))\n",
    "model.add(Dropout(0.25))\n",
    "\n",
    "model.add(Flatten())\n",
    "model.add(Dense(512, activation='relu'))\n",
    "model.add(BatchNormalization())\n",
    "model.add(Dropout(0.25))\n",
    "model.add(Dense(1024, activation='relu'))\n",
    "model.add(BatchNormalization())\n",
    "model.add(Dropout(0.5))\n",
    "model.add(Dense(10, activation='softmax'))\n",
    "\n",
    "optimizer = Adam(learning_rate=0.001, beta_1=0.9, beta_2=0.999 )\n",
    "\n",
    "model.compile(optimizer=optimizer, loss=\"categorical_crossentropy\", metrics=[\"accuracy\"])\n",
    "model.summary()"
   ]
  },
  {
   "cell_type": "code",
   "execution_count": 9,
   "id": "478ec272-5d92-4e2f-8599-aec5192dd5ad",
   "metadata": {},
   "outputs": [],
   "source": [
    "reduce_lr = tf.keras.callbacks.LearningRateScheduler(lambda x: 1e-3 * 0.9 ** x)\n",
    "decays = [(lambda x: 1e-3 * 0.9 ** x)(x) for x in range(10)]\n",
    "i=1"
   ]
  },
  {
   "cell_type": "code",
   "execution_count": 10,
   "id": "1c23a49d-8688-4515-98a9-c68821acfc3c",
   "metadata": {},
   "outputs": [],
   "source": [
    "early_stopping = tf.keras.callbacks.EarlyStopping(\n",
    "    min_delta=0.001,\n",
    "    patience=20,\n",
    "    restore_best_weights=True,\n",
    ")\n",
    "checkpoint = tf.keras.callbacks.ModelCheckpoint(filepath='SimpleK.hdf5',\n",
    "                                                monitor='val_loss',\n",
    "                                                save_best_only=True,\n",
    "                                                save_weights_only=True,\n",
    "                                                verbose=1)"
   ]
  },
  {
   "cell_type": "code",
   "execution_count": 11,
   "id": "d00e4b2e-a215-42cb-9109-299ab51e9343",
   "metadata": {},
   "outputs": [],
   "source": [
    "batch_size = 64\n",
    "epochs = 50"
   ]
  },
  {
   "cell_type": "code",
   "execution_count": 12,
   "id": "1e8ab69d-5465-438a-86a4-2f59b613f4cd",
   "metadata": {},
   "outputs": [
    {
     "name": "stderr",
     "output_type": "stream",
     "text": [
      "C:\\Anaconda3\\lib\\site-packages\\keras\\engine\\training.py:1972: UserWarning: `Model.fit_generator` is deprecated and will be removed in a future version. Please use `Model.fit`, which supports generators.\n",
      "  warnings.warn('`Model.fit_generator` is deprecated and '\n"
     ]
    },
    {
     "name": "stdout",
     "output_type": "stream",
     "text": [
      "Epoch 1/50\n",
      "750/750 [==============================] - 11s 11ms/step - loss: 0.3374 - accuracy: 0.9010 - val_loss: 0.0534 - val_accuracy: 0.9825\n",
      "\n",
      "Epoch 00001: val_loss improved from inf to 0.05343, saving model to SimpleK.hdf5\n",
      "Epoch 2/50\n",
      "750/750 [==============================] - 9s 12ms/step - loss: 0.1187 - accuracy: 0.9640 - val_loss: 0.0534 - val_accuracy: 0.9833\n",
      "\n",
      "Epoch 00002: val_loss improved from 0.05343 to 0.05339, saving model to SimpleK.hdf5\n",
      "Epoch 3/50\n",
      "750/750 [==============================] - 8s 11ms/step - loss: 0.0931 - accuracy: 0.9724 - val_loss: 0.0341 - val_accuracy: 0.9889\n",
      "\n",
      "Epoch 00003: val_loss improved from 0.05339 to 0.03407, saving model to SimpleK.hdf5\n",
      "Epoch 4/50\n",
      "750/750 [==============================] - 8s 11ms/step - loss: 0.0786 - accuracy: 0.9761 - val_loss: 0.0324 - val_accuracy: 0.9909\n",
      "\n",
      "Epoch 00004: val_loss improved from 0.03407 to 0.03244, saving model to SimpleK.hdf5\n",
      "Epoch 5/50\n",
      "750/750 [==============================] - 9s 12ms/step - loss: 0.0663 - accuracy: 0.9802 - val_loss: 0.0365 - val_accuracy: 0.9889\n",
      "\n",
      "Epoch 00005: val_loss did not improve from 0.03244\n",
      "Epoch 6/50\n",
      "750/750 [==============================] - 8s 11ms/step - loss: 0.0588 - accuracy: 0.9821 - val_loss: 0.0193 - val_accuracy: 0.9933\n",
      "\n",
      "Epoch 00006: val_loss improved from 0.03244 to 0.01929, saving model to SimpleK.hdf5\n",
      "Epoch 7/50\n",
      "750/750 [==============================] - 8s 11ms/step - loss: 0.0559 - accuracy: 0.9824 - val_loss: 0.0237 - val_accuracy: 0.9910\n",
      "\n",
      "Epoch 00007: val_loss did not improve from 0.01929\n",
      "Epoch 8/50\n",
      "750/750 [==============================] - 8s 11ms/step - loss: 0.0460 - accuracy: 0.9856 - val_loss: 0.0195 - val_accuracy: 0.9937\n",
      "\n",
      "Epoch 00008: val_loss did not improve from 0.01929\n",
      "Epoch 9/50\n",
      "750/750 [==============================] - 8s 11ms/step - loss: 0.0449 - accuracy: 0.9865 - val_loss: 0.0194 - val_accuracy: 0.9934\n",
      "\n",
      "Epoch 00009: val_loss did not improve from 0.01929\n",
      "Epoch 10/50\n",
      "750/750 [==============================] - 9s 12ms/step - loss: 0.0402 - accuracy: 0.9874 - val_loss: 0.0186 - val_accuracy: 0.9943\n",
      "\n",
      "Epoch 00010: val_loss improved from 0.01929 to 0.01859, saving model to SimpleK.hdf5\n",
      "Epoch 11/50\n",
      "750/750 [==============================] - 8s 11ms/step - loss: 0.0389 - accuracy: 0.9877 - val_loss: 0.0172 - val_accuracy: 0.9942\n",
      "\n",
      "Epoch 00011: val_loss improved from 0.01859 to 0.01721, saving model to SimpleK.hdf5\n",
      "Epoch 12/50\n",
      "750/750 [==============================] - 8s 11ms/step - loss: 0.0320 - accuracy: 0.9903 - val_loss: 0.0144 - val_accuracy: 0.9956\n",
      "\n",
      "Epoch 00012: val_loss improved from 0.01721 to 0.01444, saving model to SimpleK.hdf5\n",
      "Epoch 13/50\n",
      "750/750 [==============================] - 9s 11ms/step - loss: 0.0321 - accuracy: 0.9894 - val_loss: 0.0123 - val_accuracy: 0.9956\n",
      "\n",
      "Epoch 00013: val_loss improved from 0.01444 to 0.01225, saving model to SimpleK.hdf5\n",
      "Epoch 14/50\n",
      "750/750 [==============================] - 8s 11ms/step - loss: 0.0306 - accuracy: 0.9901 - val_loss: 0.0150 - val_accuracy: 0.9948\n",
      "\n",
      "Epoch 00014: val_loss did not improve from 0.01225\n",
      "Epoch 15/50\n",
      "750/750 [==============================] - 8s 11ms/step - loss: 0.0273 - accuracy: 0.9916 - val_loss: 0.0114 - val_accuracy: 0.9957\n",
      "\n",
      "Epoch 00015: val_loss improved from 0.01225 to 0.01136, saving model to SimpleK.hdf5\n",
      "Epoch 16/50\n",
      "750/750 [==============================] - 8s 11ms/step - loss: 0.0244 - accuracy: 0.9924 - val_loss: 0.0124 - val_accuracy: 0.9955\n",
      "\n",
      "Epoch 00016: val_loss did not improve from 0.01136\n",
      "Epoch 17/50\n",
      "750/750 [==============================] - 8s 11ms/step - loss: 0.0253 - accuracy: 0.9924 - val_loss: 0.0099 - val_accuracy: 0.9966\n",
      "\n",
      "Epoch 00017: val_loss improved from 0.01136 to 0.00992, saving model to SimpleK.hdf5\n",
      "Epoch 18/50\n",
      "750/750 [==============================] - 8s 11ms/step - loss: 0.0256 - accuracy: 0.9921 - val_loss: 0.0120 - val_accuracy: 0.9957\n",
      "\n",
      "Epoch 00018: val_loss did not improve from 0.00992\n",
      "Epoch 19/50\n",
      "750/750 [==============================] - 8s 11ms/step - loss: 0.0218 - accuracy: 0.9929 - val_loss: 0.0107 - val_accuracy: 0.9966\n",
      "\n",
      "Epoch 00019: val_loss did not improve from 0.00992\n",
      "Epoch 20/50\n",
      "750/750 [==============================] - 8s 11ms/step - loss: 0.0201 - accuracy: 0.9934 - val_loss: 0.0111 - val_accuracy: 0.9963\n",
      "\n",
      "Epoch 00020: val_loss did not improve from 0.00992\n",
      "Epoch 21/50\n",
      "750/750 [==============================] - 9s 12ms/step - loss: 0.0207 - accuracy: 0.9936 - val_loss: 0.0104 - val_accuracy: 0.9966\n",
      "\n",
      "Epoch 00021: val_loss did not improve from 0.00992\n",
      "Epoch 22/50\n",
      "750/750 [==============================] - 8s 11ms/step - loss: 0.0203 - accuracy: 0.9934 - val_loss: 0.0109 - val_accuracy: 0.9961\n",
      "\n",
      "Epoch 00022: val_loss did not improve from 0.00992\n",
      "Epoch 23/50\n",
      "750/750 [==============================] - 8s 11ms/step - loss: 0.0191 - accuracy: 0.9942 - val_loss: 0.0113 - val_accuracy: 0.9957\n",
      "\n",
      "Epoch 00023: val_loss did not improve from 0.00992\n",
      "Epoch 24/50\n",
      "750/750 [==============================] - 8s 11ms/step - loss: 0.0182 - accuracy: 0.9940 - val_loss: 0.0113 - val_accuracy: 0.9958\n",
      "\n",
      "Epoch 00024: val_loss did not improve from 0.00992\n",
      "Epoch 25/50\n",
      "750/750 [==============================] - 8s 11ms/step - loss: 0.0157 - accuracy: 0.9948 - val_loss: 0.0109 - val_accuracy: 0.9965\n",
      "\n",
      "Epoch 00025: val_loss did not improve from 0.00992\n",
      "Epoch 26/50\n",
      "750/750 [==============================] - 8s 11ms/step - loss: 0.0160 - accuracy: 0.9949 - val_loss: 0.0116 - val_accuracy: 0.9960\n",
      "\n",
      "Epoch 00026: val_loss did not improve from 0.00992\n",
      "Epoch 27/50\n",
      "750/750 [==============================] - 8s 11ms/step - loss: 0.0168 - accuracy: 0.9946 - val_loss: 0.0101 - val_accuracy: 0.9969\n",
      "\n",
      "Epoch 00027: val_loss did not improve from 0.00992\n",
      "Epoch 28/50\n",
      "750/750 [==============================] - 8s 11ms/step - loss: 0.0162 - accuracy: 0.9949 - val_loss: 0.0107 - val_accuracy: 0.9965\n",
      "\n",
      "Epoch 00028: val_loss did not improve from 0.00992\n",
      "Epoch 29/50\n",
      "750/750 [==============================] - 9s 12ms/step - loss: 0.0151 - accuracy: 0.9955 - val_loss: 0.0097 - val_accuracy: 0.9968\n",
      "\n",
      "Epoch 00029: val_loss improved from 0.00992 to 0.00973, saving model to SimpleK.hdf5\n",
      "Epoch 30/50\n",
      "750/750 [==============================] - 8s 11ms/step - loss: 0.0149 - accuracy: 0.9953 - val_loss: 0.0097 - val_accuracy: 0.9969\n",
      "\n",
      "Epoch 00030: val_loss improved from 0.00973 to 0.00973, saving model to SimpleK.hdf5\n",
      "Epoch 31/50\n",
      "750/750 [==============================] - 8s 11ms/step - loss: 0.0142 - accuracy: 0.9956 - val_loss: 0.0096 - val_accuracy: 0.9966\n",
      "\n",
      "Epoch 00031: val_loss improved from 0.00973 to 0.00961, saving model to SimpleK.hdf5\n",
      "Epoch 32/50\n",
      "750/750 [==============================] - 8s 11ms/step - loss: 0.0151 - accuracy: 0.9954 - val_loss: 0.0096 - val_accuracy: 0.9966\n",
      "\n",
      "Epoch 00032: val_loss improved from 0.00961 to 0.00960, saving model to SimpleK.hdf5\n",
      "Epoch 33/50\n",
      "750/750 [==============================] - 8s 11ms/step - loss: 0.0125 - accuracy: 0.9960 - val_loss: 0.0099 - val_accuracy: 0.9966\n",
      "\n",
      "Epoch 00033: val_loss did not improve from 0.00960\n",
      "Epoch 34/50\n",
      "750/750 [==============================] - 9s 12ms/step - loss: 0.0136 - accuracy: 0.9956 - val_loss: 0.0104 - val_accuracy: 0.9963\n",
      "\n",
      "Epoch 00034: val_loss did not improve from 0.00960\n",
      "Epoch 35/50\n",
      "750/750 [==============================] - 8s 11ms/step - loss: 0.0146 - accuracy: 0.9951 - val_loss: 0.0097 - val_accuracy: 0.9969\n",
      "\n",
      "Epoch 00035: val_loss did not improve from 0.00960\n",
      "Epoch 36/50\n",
      "750/750 [==============================] - 8s 11ms/step - loss: 0.0141 - accuracy: 0.9956 - val_loss: 0.0095 - val_accuracy: 0.9968\n",
      "\n",
      "Epoch 00036: val_loss improved from 0.00960 to 0.00951, saving model to SimpleK.hdf5\n",
      "Epoch 37/50\n",
      "750/750 [==============================] - 9s 12ms/step - loss: 0.0137 - accuracy: 0.9955 - val_loss: 0.0097 - val_accuracy: 0.9969\n",
      "\n",
      "Epoch 00037: val_loss did not improve from 0.00951\n",
      "Epoch 38/50\n",
      "750/750 [==============================] - 8s 11ms/step - loss: 0.0128 - accuracy: 0.9958 - val_loss: 0.0099 - val_accuracy: 0.9967\n",
      "\n",
      "Epoch 00038: val_loss did not improve from 0.00951\n",
      "Epoch 39/50\n",
      "750/750 [==============================] - 8s 11ms/step - loss: 0.0133 - accuracy: 0.9955 - val_loss: 0.0099 - val_accuracy: 0.9967\n",
      "\n",
      "Epoch 00039: val_loss did not improve from 0.00951\n",
      "Epoch 40/50\n",
      "750/750 [==============================] - 8s 11ms/step - loss: 0.0132 - accuracy: 0.9957 - val_loss: 0.0101 - val_accuracy: 0.9966\n",
      "\n",
      "Epoch 00040: val_loss did not improve from 0.00951\n",
      "Epoch 41/50\n",
      "750/750 [==============================] - 8s 11ms/step - loss: 0.0134 - accuracy: 0.9956 - val_loss: 0.0096 - val_accuracy: 0.9968\n",
      "\n",
      "Epoch 00041: val_loss did not improve from 0.00951\n",
      "Epoch 42/50\n",
      "750/750 [==============================] - 9s 12ms/step - loss: 0.0136 - accuracy: 0.9956 - val_loss: 0.0096 - val_accuracy: 0.9968\n",
      "\n",
      "Epoch 00042: val_loss did not improve from 0.00951\n",
      "Epoch 43/50\n",
      "750/750 [==============================] - 8s 11ms/step - loss: 0.0114 - accuracy: 0.9964 - val_loss: 0.0097 - val_accuracy: 0.9966\n",
      "\n",
      "Epoch 00043: val_loss did not improve from 0.00951\n",
      "Epoch 44/50\n",
      "750/750 [==============================] - 8s 11ms/step - loss: 0.0112 - accuracy: 0.9965 - val_loss: 0.0098 - val_accuracy: 0.9967\n",
      "\n",
      "Epoch 00044: val_loss did not improve from 0.00951\n",
      "Epoch 45/50\n",
      "750/750 [==============================] - 9s 12ms/step - loss: 0.0140 - accuracy: 0.9958 - val_loss: 0.0097 - val_accuracy: 0.9966\n",
      "\n",
      "Epoch 00045: val_loss did not improve from 0.00951\n",
      "Epoch 46/50\n",
      "750/750 [==============================] - 8s 11ms/step - loss: 0.0123 - accuracy: 0.9958 - val_loss: 0.0097 - val_accuracy: 0.9966\n",
      "\n",
      "Epoch 00046: val_loss did not improve from 0.00951\n",
      "Epoch 47/50\n",
      "750/750 [==============================] - 8s 11ms/step - loss: 0.0134 - accuracy: 0.9958 - val_loss: 0.0096 - val_accuracy: 0.9966\n",
      "\n",
      "Epoch 00047: val_loss did not improve from 0.00951\n",
      "Epoch 48/50\n",
      "750/750 [==============================] - 8s 11ms/step - loss: 0.0123 - accuracy: 0.9962 - val_loss: 0.0096 - val_accuracy: 0.9966\n",
      "\n",
      "Epoch 00048: val_loss did not improve from 0.00951\n",
      "Epoch 49/50\n",
      "750/750 [==============================] - 8s 10ms/step - loss: 0.0132 - accuracy: 0.9960 - val_loss: 0.0096 - val_accuracy: 0.9965\n",
      "\n",
      "Epoch 00049: val_loss did not improve from 0.00951\n",
      "Epoch 50/50\n",
      "750/750 [==============================] - 9s 11ms/step - loss: 0.0118 - accuracy: 0.9963 - val_loss: 0.0096 - val_accuracy: 0.9967\n",
      "\n",
      "Epoch 00050: val_loss did not improve from 0.00951\n"
     ]
    }
   ],
   "source": [
    "history = model.fit_generator(datagen.flow(X_train, y_train, batch_size = batch_size), epochs = epochs, \n",
    "                              validation_data = (X_test, y_test), verbose=1, \n",
    "                              steps_per_epoch=X_train.shape[0] // batch_size,\n",
    "                              callbacks = [reduce_lr, checkpoint]) #early stopping 제외"
   ]
  },
  {
   "cell_type": "code",
   "execution_count": 13,
   "id": "e81968f1-5bd5-4c03-b756-bf3a5499b428",
   "metadata": {},
   "outputs": [
    {
     "name": "stdout",
     "output_type": "stream",
     "text": [
      "313/313 [==============================] - 1s 2ms/step - loss: 0.0095 - accuracy: 0.9968\n",
      "Untrained model, accuracy: 99.68%\n"
     ]
    }
   ],
   "source": [
    "model.load_weights(\"SimpleK.hdf5\")\n",
    "loss, acc = model.evaluate(X_test, y_test)\n",
    "print(\"Untrained model, accuracy: {:5.2f}%\".format(100*acc))"
   ]
  },
  {
   "cell_type": "code",
   "execution_count": null,
   "id": "ba7a347f-b6ad-494a-b612-c65e3596f92b",
   "metadata": {},
   "outputs": [],
   "source": []
  }
 ],
 "metadata": {
  "kernelspec": {
   "display_name": "Python 3",
   "language": "python",
   "name": "python3"
  },
  "language_info": {
   "codemirror_mode": {
    "name": "ipython",
    "version": 3
   },
   "file_extension": ".py",
   "mimetype": "text/x-python",
   "name": "python",
   "nbconvert_exporter": "python",
   "pygments_lexer": "ipython3",
   "version": "3.8.8"
  }
 },
 "nbformat": 4,
 "nbformat_minor": 5
}
