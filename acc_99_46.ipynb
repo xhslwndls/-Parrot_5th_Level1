{
  "nbformat": 4,
  "nbformat_minor": 0,
  "metadata": {
    "colab": {
      "name": "acc_99.46.ipynb",
      "provenance": []
    },
    "kernelspec": {
      "name": "python3",
      "display_name": "Python 3"
    },
    "language_info": {
      "name": "python"
    },
    "accelerator": "GPU"
  },
  "cells": [
    {
      "cell_type": "code",
      "metadata": {
        "id": "uf0yhhUELrnS"
      },
      "source": [
        "import numpy as np \n",
        "import pandas as pd \n",
        "import tensorflow as tf\n",
        "\n",
        "from tensorflow.keras.layers import Conv2D, Dropout, Flatten, BatchNormalization, MaxPooling2D, LeakyReLU, ReLU, PReLU\n",
        "from tensorflow.keras.optimizers import RMSprop, Nadam, Adadelta, Adam\n",
        "from tensorflow.keras.preprocessing.image import ImageDataGenerator\n",
        "from tensorflow.keras.callbacks import ReduceLROnPlateau, EarlyStopping\n",
        "\n",
        "from tensorflow.keras.regularizers import l2\n",
        "import matplotlib.pyplot as plt  # 그림으로 보기 위한 matplotlib 라이브러리 import\n",
        "from tensorflow.keras.datasets import mnist  # 라이브러리가 기본으로 제공하는 mnist 데이터셋 \n",
        "from tensorflow.keras.utils import to_categorical # one-hot encoding 을 위한 함수\n",
        "from tensorflow.keras.models import Sequential # 레이어를 층층이 쌓아가는 연쇄 모델\n",
        "from tensorflow.keras.layers import Dense  # 완전연결층\n",
        "from tensorflow.keras.models import load_model  # 저장된 모델 불러오기"
      ],
      "execution_count": 1,
      "outputs": []
    },
    {
      "cell_type": "code",
      "metadata": {
        "colab": {
          "base_uri": "https://localhost:8080/"
        },
        "id": "xQ9rcbFcMN-9",
        "outputId": "ab288193-f76b-440a-ef24-f195b0892ed1"
      },
      "source": [
        "(X_train, y_train) , (X_test, y_test)  =  mnist.load_data()\n",
        "\n",
        "#데이터셋 차원 확인\n",
        "print(f\"X_train_shape : {X_train.shape}\")  # X_train_shape : (60000, 28, 28) 손글씨 이미지 파일 6만개 저장\n",
        "print(f\"y_train_shape : {y_train.shape}\") # y_train_shape : (60000,)\n",
        "print(f\"X_test_shape : {X_test.shape}\")  # X_test_shape : (10000, 28, 28) 1만개 저장\n",
        "print(f\"y_test_shape : {y_test.shape}\")  # y_test_shape : (10000,)\n"
      ],
      "execution_count": 2,
      "outputs": [
        {
          "output_type": "stream",
          "name": "stdout",
          "text": [
            "Downloading data from https://storage.googleapis.com/tensorflow/tf-keras-datasets/mnist.npz\n",
            "11493376/11490434 [==============================] - 0s 0us/step\n",
            "11501568/11490434 [==============================] - 0s 0us/step\n",
            "X_train_shape : (60000, 28, 28)\n",
            "y_train_shape : (60000,)\n",
            "X_test_shape : (10000, 28, 28)\n",
            "y_test_shape : (10000,)\n"
          ]
        }
      ]
    },
    {
      "cell_type": "code",
      "metadata": {
        "colab": {
          "base_uri": "https://localhost:8080/"
        },
        "id": "Yzs1sIUXM3mm",
        "outputId": "9eed2f33-2563-4c42-aeaf-48ac6635409a"
      },
      "source": [
        "#Input data preprocessing\n",
        "X_train = X_train.reshape((60000, 28, 28, 1))\n",
        "X_test = X_test.reshape((10000, 28, 28, 1))\n",
        "print(X_train.shape) # (60000, 28, 28)\n",
        "print(X_train.shape) # (60000, )\n",
        "\n",
        "print(f\"X_train_shape: {X_train.shape}\")  # X_train_shape : (60000, 784)\n",
        "print(f\"X_test_shape: {X_test.shape}\")  # X_test_shape : (10000, 784)"
      ],
      "execution_count": 3,
      "outputs": [
        {
          "output_type": "stream",
          "name": "stdout",
          "text": [
            "(60000, 28, 28, 1)\n",
            "(60000, 28, 28, 1)\n",
            "X_train_shape: (60000, 28, 28, 1)\n",
            "X_test_shape: (10000, 28, 28, 1)\n"
          ]
        }
      ]
    },
    {
      "cell_type": "code",
      "metadata": {
        "colab": {
          "base_uri": "https://localhost:8080/"
        },
        "id": "wjhIu-LvM60m",
        "outputId": "10705ec0-7a3e-46c5-c499-5ed5b73cfcd4"
      },
      "source": [
        "#Output data preprocessing\n",
        "# 출력 데이터: 단일값(스칼라값) --> 1차원의 벡터값, 해당 클래스에 해당하는 값만 1, 나머지 0\n",
        "y_train = to_categorical(y_train, 10) # one-hot encoding, 1차원 -> 2차원\n",
        "y_test = to_categorical(y_test, 10)\n",
        "\n",
        "print(f\"y_train_shape: {y_train.shape}\")  # y_train_shape: (60000, 10)\n",
        "print(f\"y_test_shape: {y_test.shape}\")  # y_test_shape: (10000, 10)"
      ],
      "execution_count": 4,
      "outputs": [
        {
          "output_type": "stream",
          "name": "stdout",
          "text": [
            "y_train_shape: (60000, 10)\n",
            "y_test_shape: (10000, 10)\n"
          ]
        }
      ]
    },
    {
      "cell_type": "code",
      "metadata": {
        "id": "JLypELvEM8LH"
      },
      "source": [
        "model = tf.keras.models.Sequential([\n",
        "    tf.keras.layers.Conv2D(64, (3,3), padding='same', input_shape=(28, 28, 1)),\n",
        "    tf.keras.layers.BatchNormalization(momentum=0.9, epsilon=1e-5, gamma_initializer=\"uniform\"),\n",
        "    tf.keras.layers.LeakyReLU(alpha=0.1),\n",
        "    tf.keras.layers.Conv2D(64,  (3,3), padding='same'),\n",
        "    tf.keras.layers.BatchNormalization(momentum=0.9, epsilon=1e-5, gamma_initializer=\"uniform\"),\n",
        "    tf.keras.layers.LeakyReLU(alpha=0.1),\n",
        "    tf.keras.layers.MaxPooling2D(2, 2),\n",
        "    \n",
        "    tf.keras.layers.Conv2D(128, (3,3), padding='same'),\n",
        "    tf.keras.layers.BatchNormalization(momentum=0.9, epsilon=1e-5, gamma_initializer=\"uniform\"),\n",
        "    tf.keras.layers.LeakyReLU(alpha=0.1),\n",
        "    tf.keras.layers.Conv2D(128, (3,3), padding='same'),\n",
        "    tf.keras.layers.BatchNormalization(momentum=0.9, epsilon=1e-5, gamma_initializer=\"uniform\"),\n",
        "    tf.keras.layers.LeakyReLU(alpha=0.1),\n",
        "    \n",
        "    tf.keras.layers.MaxPooling2D(2,2),\n",
        "    \n",
        "    tf.keras.layers.Flatten(),\n",
        "    tf.keras.layers.Dense(2048),\n",
        "    tf.keras.layers.LeakyReLU(alpha=0.1),\n",
        "    tf.keras.layers.Dense(2048),\n",
        "    tf.keras.layers.LeakyReLU(alpha=0.1),\n",
        "    tf.keras.layers.Dropout(0.8),\n",
        "    tf.keras.layers.Dense(10, activation='softmax')\n",
        "])"
      ],
      "execution_count": 5,
      "outputs": []
    },
    {
      "cell_type": "code",
      "metadata": {
        "colab": {
          "base_uri": "https://localhost:8080/"
        },
        "id": "ORlEBiJlNB9D",
        "outputId": "cf177ea6-c186-488b-fa72-a01f4121208e"
      },
      "source": [
        "model.summary()"
      ],
      "execution_count": 6,
      "outputs": [
        {
          "output_type": "stream",
          "name": "stdout",
          "text": [
            "Model: \"sequential\"\n",
            "_________________________________________________________________\n",
            "Layer (type)                 Output Shape              Param #   \n",
            "=================================================================\n",
            "conv2d (Conv2D)              (None, 28, 28, 64)        640       \n",
            "_________________________________________________________________\n",
            "batch_normalization (BatchNo (None, 28, 28, 64)        256       \n",
            "_________________________________________________________________\n",
            "leaky_re_lu (LeakyReLU)      (None, 28, 28, 64)        0         \n",
            "_________________________________________________________________\n",
            "conv2d_1 (Conv2D)            (None, 28, 28, 64)        36928     \n",
            "_________________________________________________________________\n",
            "batch_normalization_1 (Batch (None, 28, 28, 64)        256       \n",
            "_________________________________________________________________\n",
            "leaky_re_lu_1 (LeakyReLU)    (None, 28, 28, 64)        0         \n",
            "_________________________________________________________________\n",
            "max_pooling2d (MaxPooling2D) (None, 14, 14, 64)        0         \n",
            "_________________________________________________________________\n",
            "conv2d_2 (Conv2D)            (None, 14, 14, 128)       73856     \n",
            "_________________________________________________________________\n",
            "batch_normalization_2 (Batch (None, 14, 14, 128)       512       \n",
            "_________________________________________________________________\n",
            "leaky_re_lu_2 (LeakyReLU)    (None, 14, 14, 128)       0         \n",
            "_________________________________________________________________\n",
            "conv2d_3 (Conv2D)            (None, 14, 14, 128)       147584    \n",
            "_________________________________________________________________\n",
            "batch_normalization_3 (Batch (None, 14, 14, 128)       512       \n",
            "_________________________________________________________________\n",
            "leaky_re_lu_3 (LeakyReLU)    (None, 14, 14, 128)       0         \n",
            "_________________________________________________________________\n",
            "max_pooling2d_1 (MaxPooling2 (None, 7, 7, 128)         0         \n",
            "_________________________________________________________________\n",
            "flatten (Flatten)            (None, 6272)              0         \n",
            "_________________________________________________________________\n",
            "dense (Dense)                (None, 2048)              12847104  \n",
            "_________________________________________________________________\n",
            "leaky_re_lu_4 (LeakyReLU)    (None, 2048)              0         \n",
            "_________________________________________________________________\n",
            "dense_1 (Dense)              (None, 2048)              4196352   \n",
            "_________________________________________________________________\n",
            "leaky_re_lu_5 (LeakyReLU)    (None, 2048)              0         \n",
            "_________________________________________________________________\n",
            "dropout (Dropout)            (None, 2048)              0         \n",
            "_________________________________________________________________\n",
            "dense_2 (Dense)              (None, 10)                20490     \n",
            "=================================================================\n",
            "Total params: 17,324,490\n",
            "Trainable params: 17,323,722\n",
            "Non-trainable params: 768\n",
            "_________________________________________________________________\n"
          ]
        }
      ]
    },
    {
      "cell_type": "code",
      "metadata": {
        "id": "ycVICAG7NF8r"
      },
      "source": [
        "optimizer = Adam(learning_rate=0.01) # 논문 설정대로 0.01을 주었다.\n",
        "model.compile(loss='categorical_crossentropy',\n",
        "              optimizer=optimizer,\n",
        "              metrics=['accuracy'])"
      ],
      "execution_count": 7,
      "outputs": []
    },
    {
      "cell_type": "code",
      "metadata": {
        "id": "UKqhjHcvSOyM",
        "colab": {
          "base_uri": "https://localhost:8080/"
        },
        "outputId": "6499b447-3e8c-41fb-a17b-90608fc8319b"
      },
      "source": [
        "model.fit(X_train, y_train, batch_size = 100, epochs=10, validation_split = 0.2)\n",
        "loss, acc = model.evaluate(X_test, y_test)  # 학습 완료 후 검증\n",
        "print(\"손실률:\", loss) \n",
        "print(\"정확도:\", acc)  "
      ],
      "execution_count": 9,
      "outputs": [
        {
          "output_type": "stream",
          "name": "stdout",
          "text": [
            "Epoch 1/10\n",
            "480/480 [==============================] - 25s 51ms/step - loss: 15.2144 - accuracy: 0.9529 - val_loss: 4.2960 - val_accuracy: 0.9726\n",
            "Epoch 2/10\n",
            "480/480 [==============================] - 23s 48ms/step - loss: 4.3689 - accuracy: 0.9622 - val_loss: 2.4047 - val_accuracy: 0.9769\n",
            "Epoch 3/10\n",
            "480/480 [==============================] - 23s 48ms/step - loss: 3.2142 - accuracy: 0.9654 - val_loss: 1.6458 - val_accuracy: 0.9830\n",
            "Epoch 4/10\n",
            "480/480 [==============================] - 23s 48ms/step - loss: 2.4498 - accuracy: 0.9710 - val_loss: 1.5533 - val_accuracy: 0.9847\n",
            "Epoch 5/10\n",
            "480/480 [==============================] - 24s 51ms/step - loss: 2.3358 - accuracy: 0.9720 - val_loss: 2.0049 - val_accuracy: 0.9827\n",
            "Epoch 6/10\n",
            "480/480 [==============================] - 24s 51ms/step - loss: 2.9689 - accuracy: 0.9719 - val_loss: 2.3449 - val_accuracy: 0.9835\n",
            "Epoch 7/10\n",
            "480/480 [==============================] - 24s 51ms/step - loss: 4.6935 - accuracy: 0.9706 - val_loss: 6.5162 - val_accuracy: 0.9744\n",
            "Epoch 8/10\n",
            "480/480 [==============================] - 24s 51ms/step - loss: 12.9765 - accuracy: 0.9647 - val_loss: 15.1734 - val_accuracy: 0.9670\n",
            "Epoch 9/10\n",
            "480/480 [==============================] - 24s 51ms/step - loss: 91.0836 - accuracy: 0.9571 - val_loss: 160.7754 - val_accuracy: 0.9681\n",
            "Epoch 10/10\n",
            "480/480 [==============================] - 24s 51ms/step - loss: 167.7474 - accuracy: 0.9679 - val_loss: 27.2912 - val_accuracy: 0.9862\n",
            "313/313 [==============================] - 4s 11ms/step - loss: 20.0561 - accuracy: 0.9887\n",
            "손실률: 20.056108474731445\n",
            "정확도: 0.9886999726295471\n"
          ]
        }
      ]
    },
    {
      "cell_type": "code",
      "metadata": {
        "id": "UJVLlSmoN8rN"
      },
      "source": [
        "datagen_train = ImageDataGenerator(rotation_range = 10, \n",
        "                                   # 360도 기준으로 정수형을 넣어야한다. 10 -> 10도안에서 회전\n",
        "                                   width_shift_range = 0.25, \n",
        "                                   # 1을 기준으로 0.25만큼 가로 이동, 1보다 크다면 이동 픽셀수로 변환\n",
        "                                   height_shift_range = 0.25, \n",
        "                                   # 위와 같음\n",
        "                                   shear_range = 0.1,  \n",
        "                                   # 휘어짐 정도\n",
        "                                   zoom_range = 0.4,\n",
        "                                   # 확대 정도, 이 경우 [최소:0.6, 최대:1.4] 을 의미한다. [0.7,1] 이런 식도 가능\n",
        "                                   horizontal_flip = False) \n",
        "# 수평 뒤집기 False로 방지, 하지만 이미 default가 False라 굳이 할 필요는 없다.\n",
        "datagen_val = ImageDataGenerator() \n",
        "learning_rate_reduction = tf.keras.callbacks.ReduceLROnPlateau( \n",
        "    monitor='loss',    \n",
        "    # Quantity to be monitored.\n",
        "    factor=0.25,       \n",
        "    # Factor by which the learning rate will be reduced. new_lr = lr * factor\n",
        "    patience=2,        \n",
        "    # The number of epochs with no improvement after which learning rate will be reduced.\n",
        "    verbose=1,         \n",
        "    # 0: quiet - 1: update messages.\n",
        "    mode=\"auto\",       \n",
        "    # {auto, min, max}. In min mode, lr will be reduced when the quantity monitored has stopped decreasing; \n",
        "    # in the max mode it will be reduced when the quantity monitored has stopped increasing; \n",
        "    # in auto mode, the direction is automatically inferred from the name of the monitored quantity.\n",
        "    min_delta=0.0001,  \n",
        "    # threshold for measuring the new optimum, to only focus on significant changes.\n",
        "    cooldown=0,        \n",
        "    # number of epochs to wait before resuming normal operation after learning rate (lr) has been reduced.\n",
        "    min_lr=0.00001     \n",
        "    # lower bound on the learning rate.\n",
        "    )"
      ],
      "execution_count": 10,
      "outputs": []
    },
    {
      "cell_type": "code",
      "metadata": {
        "id": "CpnlrpZMNNkL",
        "colab": {
          "base_uri": "https://localhost:8080/"
        },
        "outputId": "bed39495-ad87-4caa-d8a1-6dae7f2437a1"
      },
      "source": [
        "model = tf.keras.models.Sequential([\n",
        "    tf.keras.layers.Conv2D(64, (3,3), padding='same', input_shape=(28, 28, 1)),\n",
        "    tf.keras.layers.BatchNormalization(momentum=0.9, epsilon=1e-5, gamma_initializer=\"uniform\"),\n",
        "    tf.keras.layers.LeakyReLU(alpha=0.1),\n",
        "    tf.keras.layers.Conv2D(64,  (3,3), padding='same'),\n",
        "    tf.keras.layers.BatchNormalization(momentum=0.9, epsilon=1e-5, gamma_initializer=\"uniform\"),\n",
        "    tf.keras.layers.LeakyReLU(alpha=0.1),\n",
        "    tf.keras.layers.Conv2D(64,  (3,3), padding='same'),\n",
        "    tf.keras.layers.BatchNormalization(momentum=0.9, epsilon=1e-5, gamma_initializer=\"uniform\"),\n",
        "    tf.keras.layers.LeakyReLU(alpha=0.1),\n",
        "    tf.keras.layers.MaxPooling2D(2, 2),\n",
        "    tf.keras.layers.Dropout(0.25),\n",
        "    \n",
        "    tf.keras.layers.Conv2D(128, (3,3), padding='same'),\n",
        "    tf.keras.layers.BatchNormalization(momentum=0.9, epsilon=1e-5, gamma_initializer=\"uniform\"),\n",
        "    tf.keras.layers.LeakyReLU(alpha=0.1),\n",
        "    tf.keras.layers.Conv2D(128, (3,3), padding='same'),\n",
        "    tf.keras.layers.BatchNormalization(momentum=0.9, epsilon=1e-5, gamma_initializer=\"uniform\"),\n",
        "    tf.keras.layers.LeakyReLU(alpha=0.1),\n",
        "    tf.keras.layers.Conv2D(128, (3,3), padding='same'),\n",
        "    tf.keras.layers.BatchNormalization(momentum=0.9, epsilon=1e-5, gamma_initializer=\"uniform\"),\n",
        "    tf.keras.layers.LeakyReLU(alpha=0.1),\n",
        "    \n",
        "    tf.keras.layers.MaxPooling2D(2,2),\n",
        "    tf.keras.layers.Dropout(0.25),    \n",
        "    \n",
        "    tf.keras.layers.Conv2D(256, (3,3), padding='same'),\n",
        "    tf.keras.layers.BatchNormalization(momentum=0.9, epsilon=1e-5, gamma_initializer=\"uniform\"),\n",
        "    tf.keras.layers.LeakyReLU(alpha=0.1),\n",
        "    tf.keras.layers.Conv2D(256, (3,3), padding='same'),\n",
        "    tf.keras.layers.BatchNormalization(momentum=0.9, epsilon=1e-5, gamma_initializer=\"uniform\"),##\n",
        "    tf.keras.layers.LeakyReLU(alpha=0.1),\n",
        "    tf.keras.layers.MaxPooling2D(2,2),\n",
        "    tf.keras.layers.Dropout(0.25),\n",
        "    \n",
        "    tf.keras.layers.Flatten(),\n",
        "    tf.keras.layers.Dense(256),\n",
        "    tf.keras.layers.LeakyReLU(alpha=0.1),\n",
        " \n",
        "    tf.keras.layers.BatchNormalization(),\n",
        "    tf.keras.layers.Dense(10, activation='softmax')\n",
        "])\n",
        "optimizer = RMSprop(learning_rate=0.002,\n",
        "    rho=0.9,\n",
        "    momentum=0.1,\n",
        "    epsilon=1e-07,\n",
        "    centered=True,\n",
        "    name='RMSprop')\n",
        "model.compile(loss='categorical_crossentropy',\n",
        "              optimizer=optimizer,\n",
        "              metrics=['accuracy'])\n",
        "model.summary()"
      ],
      "execution_count": 11,
      "outputs": [
        {
          "output_type": "stream",
          "name": "stdout",
          "text": [
            "Model: \"sequential_1\"\n",
            "_________________________________________________________________\n",
            "Layer (type)                 Output Shape              Param #   \n",
            "=================================================================\n",
            "conv2d_4 (Conv2D)            (None, 28, 28, 64)        640       \n",
            "_________________________________________________________________\n",
            "batch_normalization_4 (Batch (None, 28, 28, 64)        256       \n",
            "_________________________________________________________________\n",
            "leaky_re_lu_6 (LeakyReLU)    (None, 28, 28, 64)        0         \n",
            "_________________________________________________________________\n",
            "conv2d_5 (Conv2D)            (None, 28, 28, 64)        36928     \n",
            "_________________________________________________________________\n",
            "batch_normalization_5 (Batch (None, 28, 28, 64)        256       \n",
            "_________________________________________________________________\n",
            "leaky_re_lu_7 (LeakyReLU)    (None, 28, 28, 64)        0         \n",
            "_________________________________________________________________\n",
            "conv2d_6 (Conv2D)            (None, 28, 28, 64)        36928     \n",
            "_________________________________________________________________\n",
            "batch_normalization_6 (Batch (None, 28, 28, 64)        256       \n",
            "_________________________________________________________________\n",
            "leaky_re_lu_8 (LeakyReLU)    (None, 28, 28, 64)        0         \n",
            "_________________________________________________________________\n",
            "max_pooling2d_2 (MaxPooling2 (None, 14, 14, 64)        0         \n",
            "_________________________________________________________________\n",
            "dropout_1 (Dropout)          (None, 14, 14, 64)        0         \n",
            "_________________________________________________________________\n",
            "conv2d_7 (Conv2D)            (None, 14, 14, 128)       73856     \n",
            "_________________________________________________________________\n",
            "batch_normalization_7 (Batch (None, 14, 14, 128)       512       \n",
            "_________________________________________________________________\n",
            "leaky_re_lu_9 (LeakyReLU)    (None, 14, 14, 128)       0         \n",
            "_________________________________________________________________\n",
            "conv2d_8 (Conv2D)            (None, 14, 14, 128)       147584    \n",
            "_________________________________________________________________\n",
            "batch_normalization_8 (Batch (None, 14, 14, 128)       512       \n",
            "_________________________________________________________________\n",
            "leaky_re_lu_10 (LeakyReLU)   (None, 14, 14, 128)       0         \n",
            "_________________________________________________________________\n",
            "conv2d_9 (Conv2D)            (None, 14, 14, 128)       147584    \n",
            "_________________________________________________________________\n",
            "batch_normalization_9 (Batch (None, 14, 14, 128)       512       \n",
            "_________________________________________________________________\n",
            "leaky_re_lu_11 (LeakyReLU)   (None, 14, 14, 128)       0         \n",
            "_________________________________________________________________\n",
            "max_pooling2d_3 (MaxPooling2 (None, 7, 7, 128)         0         \n",
            "_________________________________________________________________\n",
            "dropout_2 (Dropout)          (None, 7, 7, 128)         0         \n",
            "_________________________________________________________________\n",
            "conv2d_10 (Conv2D)           (None, 7, 7, 256)         295168    \n",
            "_________________________________________________________________\n",
            "batch_normalization_10 (Batc (None, 7, 7, 256)         1024      \n",
            "_________________________________________________________________\n",
            "leaky_re_lu_12 (LeakyReLU)   (None, 7, 7, 256)         0         \n",
            "_________________________________________________________________\n",
            "conv2d_11 (Conv2D)           (None, 7, 7, 256)         590080    \n",
            "_________________________________________________________________\n",
            "batch_normalization_11 (Batc (None, 7, 7, 256)         1024      \n",
            "_________________________________________________________________\n",
            "leaky_re_lu_13 (LeakyReLU)   (None, 7, 7, 256)         0         \n",
            "_________________________________________________________________\n",
            "max_pooling2d_4 (MaxPooling2 (None, 3, 3, 256)         0         \n",
            "_________________________________________________________________\n",
            "dropout_3 (Dropout)          (None, 3, 3, 256)         0         \n",
            "_________________________________________________________________\n",
            "flatten_1 (Flatten)          (None, 2304)              0         \n",
            "_________________________________________________________________\n",
            "dense_3 (Dense)              (None, 256)               590080    \n",
            "_________________________________________________________________\n",
            "leaky_re_lu_14 (LeakyReLU)   (None, 256)               0         \n",
            "_________________________________________________________________\n",
            "batch_normalization_12 (Batc (None, 256)               1024      \n",
            "_________________________________________________________________\n",
            "dense_4 (Dense)              (None, 10)                2570      \n",
            "=================================================================\n",
            "Total params: 1,926,794\n",
            "Trainable params: 1,924,106\n",
            "Non-trainable params: 2,688\n",
            "_________________________________________________________________\n"
          ]
        }
      ]
    },
    {
      "cell_type": "code",
      "metadata": {
        "id": "D2_F-xzPN4U8",
        "colab": {
          "base_uri": "https://localhost:8080/"
        },
        "outputId": "c9f45a32-3ec9-4842-babd-c79e9eecf253"
      },
      "source": [
        "es = EarlyStopping(monitor='val_loss', mode='min', verbose=1, patience=300, restore_best_weights=True)\n",
        "history = model.fit(datagen_train.flow(X_train, y_train, batch_size=256),\n",
        "                              steps_per_epoch=len(X_train)//256,\n",
        "                              epochs=14,\n",
        "                              validation_data=(X_test, y_test),\n",
        "                              callbacks=[learning_rate_reduction, es],\n",
        "                              verbose=2)"
      ],
      "execution_count": 14,
      "outputs": [
        {
          "output_type": "stream",
          "name": "stdout",
          "text": [
            "Epoch 1/14\n",
            "234/234 - 73s - loss: 0.6046 - accuracy: 0.8031 - val_loss: 0.2552 - val_accuracy: 0.9618\n",
            "Epoch 2/14\n",
            "234/234 - 34s - loss: 0.1752 - accuracy: 0.9452 - val_loss: 0.1026 - val_accuracy: 0.9715\n",
            "Epoch 3/14\n",
            "234/234 - 34s - loss: 0.1330 - accuracy: 0.9584 - val_loss: 0.0281 - val_accuracy: 0.9914\n",
            "Epoch 4/14\n",
            "234/234 - 34s - loss: 0.1110 - accuracy: 0.9654 - val_loss: 0.0711 - val_accuracy: 0.9792\n",
            "Epoch 5/14\n",
            "234/234 - 34s - loss: 0.0992 - accuracy: 0.9683 - val_loss: 0.0603 - val_accuracy: 0.9826\n",
            "Epoch 6/14\n",
            "234/234 - 34s - loss: 0.0914 - accuracy: 0.9708 - val_loss: 0.0323 - val_accuracy: 0.9904\n",
            "Epoch 7/14\n",
            "234/234 - 34s - loss: 0.0869 - accuracy: 0.9728 - val_loss: 0.0206 - val_accuracy: 0.9939\n",
            "Epoch 8/14\n",
            "234/234 - 34s - loss: 0.0816 - accuracy: 0.9751 - val_loss: 0.0271 - val_accuracy: 0.9918\n",
            "Epoch 9/14\n",
            "234/234 - 34s - loss: 0.0748 - accuracy: 0.9775 - val_loss: 0.0289 - val_accuracy: 0.9912\n",
            "Epoch 10/14\n",
            "234/234 - 34s - loss: 0.0762 - accuracy: 0.9752 - val_loss: 0.0207 - val_accuracy: 0.9925\n",
            "Epoch 11/14\n",
            "234/234 - 34s - loss: 0.0675 - accuracy: 0.9787 - val_loss: 0.0283 - val_accuracy: 0.9907\n",
            "Epoch 12/14\n",
            "234/234 - 34s - loss: 0.0689 - accuracy: 0.9785 - val_loss: 0.0225 - val_accuracy: 0.9937\n",
            "Epoch 13/14\n",
            "234/234 - 36s - loss: 0.0659 - accuracy: 0.9794 - val_loss: 0.0268 - val_accuracy: 0.9922\n",
            "Epoch 14/14\n",
            "234/234 - 34s - loss: 0.0645 - accuracy: 0.9796 - val_loss: 0.0173 - val_accuracy: 0.9946\n"
          ]
        }
      ]
    },
    {
      "cell_type": "code",
      "metadata": {
        "id": "e4ccTNRsOPOr",
        "colab": {
          "base_uri": "https://localhost:8080/"
        },
        "outputId": "359184f5-4a68-45df-aa63-c340e05e48bb"
      },
      "source": [
        "model.evaluate(X_test, y_test, batch_size=256)"
      ],
      "execution_count": 15,
      "outputs": [
        {
          "output_type": "stream",
          "name": "stdout",
          "text": [
            "40/40 [==============================] - 2s 48ms/step - loss: 0.0173 - accuracy: 0.9946\n"
          ]
        },
        {
          "output_type": "execute_result",
          "data": {
            "text/plain": [
              "[0.01728694699704647, 0.9945999979972839]"
            ]
          },
          "metadata": {},
          "execution_count": 15
        }
      ]
    },
    {
      "cell_type": "code",
      "metadata": {
        "id": "eVkGAN1nN6fK"
      },
      "source": [
        ""
      ],
      "execution_count": null,
      "outputs": []
    }
  ]
}