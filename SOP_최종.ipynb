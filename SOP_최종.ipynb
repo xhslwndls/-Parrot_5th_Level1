{
 "cells": [
  {
   "cell_type": "code",
   "execution_count": null,
   "id": "e7a4a366-f470-4768-a6f7-a75ca53c48dc",
   "metadata": {
    "colab": {
     "base_uri": "https://localhost:8080/"
    },
    "id": "e7a4a366-f470-4768-a6f7-a75ca53c48dc",
    "outputId": "38ea8105-b978-451f-a5aa-1065e5615139"
   },
   "outputs": [],
   "source": [
    "#!pip install einops\n",
    "\n",
    "import numpy as np\n",
    "import pandas as pd\n",
    "import tensorflow as tf\n",
    "import matplotlib.pyplot as plt\n",
    "\n",
    "from tensorflow.data import Dataset\n",
    "from tensorflow.keras.models import Model, load_model\n",
    "from tensorflow.keras.utils import to_categorical\n",
    "from tensorflow.keras.optimizers import Adam, RMSprop\n",
    "from tensorflow.keras.layers import Input, Dense, Conv2D, Dropout, Flatten, Activation, MaxPooling2D, BatchNormalization, ReLU\n",
    "from tensorflow.keras.preprocessing.image import ImageDataGenerator\n",
    "from tensorflow.keras.callbacks import EarlyStopping, ModelCheckpoint, ReduceLROnPlateau\n",
    "\n",
    "from einops import rearrange\n",
    "from sklearn.model_selection import train_test_split"
   ]
  },
  {
   "cell_type": "markdown",
   "id": "a794c2db-17e6-42c2-bb26-7e22941226e5",
   "metadata": {
    "id": "a794c2db-17e6-42c2-bb26-7e22941226e5"
   },
   "source": [
    "## Import Data"
   ]
  },
  {
   "cell_type": "code",
   "execution_count": null,
   "id": "f89da516-7b1f-4454-a641-09371f0a3632",
   "metadata": {
    "colab": {
     "base_uri": "https://localhost:8080/"
    },
    "id": "f89da516-7b1f-4454-a641-09371f0a3632",
    "outputId": "ae76ae20-cb44-49f1-9d05-0ee9a25f38a2"
   },
   "outputs": [],
   "source": [
    "(X_train, y_train), (X_test, y_test) = tf.keras.datasets.mnist.load_data()"
   ]
  },
  {
   "cell_type": "markdown",
   "id": "7e38adb8-6b62-4b01-a58c-ec00d21271e9",
   "metadata": {
    "id": "7e38adb8-6b62-4b01-a58c-ec00d21271e9"
   },
   "source": [
    "## Observe Data"
   ]
  },
  {
   "cell_type": "code",
   "execution_count": null,
   "id": "f69f4a1e-95c1-4b7b-b436-09b1d2b39cb9",
   "metadata": {
    "colab": {
     "base_uri": "https://localhost:8080/"
    },
    "id": "f69f4a1e-95c1-4b7b-b436-09b1d2b39cb9",
    "outputId": "766bdcb5-904e-4984-8603-654c8ceb11f8"
   },
   "outputs": [],
   "source": [
    "print('X_train: ', X_train.shape)\n",
    "print('X_test: ', X_test.shape)"
   ]
  },
  {
   "cell_type": "code",
   "execution_count": null,
   "id": "df3cd358-d442-419b-8f15-1a59f8233d0f",
   "metadata": {
    "colab": {
     "base_uri": "https://localhost:8080/",
     "height": 657
    },
    "id": "df3cd358-d442-419b-8f15-1a59f8233d0f",
    "outputId": "35fddac5-e56c-44f7-ebb3-ea8cf70e8929"
   },
   "outputs": [],
   "source": [
    "fig = plt.figure(figsize=(9, 9))\n",
    "\n",
    "for i in range(9):\n",
    "    plt.subplot(3, 3, 1 + i)\n",
    "    plt.tight_layout()\n",
    "    plt.imshow(X_train[i], cmap=\"gray\", interpolation=\"none\")\n",
    "    target = y_train[i]\n",
    "    plt.title(\"Ground Truth: {}\".format(int(target)))\n",
    "\n",
    "plt.show()"
   ]
  },
  {
   "cell_type": "markdown",
   "id": "16f8e74d-61e3-4c81-b966-271e0ccc58c7",
   "metadata": {
    "id": "16f8e74d-61e3-4c81-b966-271e0ccc58c7"
   },
   "source": [
    "## Preprocessing"
   ]
  },
  {
   "cell_type": "code",
   "execution_count": null,
   "id": "bde59564-7b3f-450c-b7b2-8cd00f4a55ca",
   "metadata": {
    "id": "bde59564-7b3f-450c-b7b2-8cd00f4a55ca"
   },
   "outputs": [],
   "source": [
    "target_size = 10   # 0 ~ 9, 총 9개\n",
    "\n",
    "### 주의: 흑백 데이터여도 channel 차원을 살려주어야 정상적으로 작동합니다\n",
    "X_train = rearrange(X_train, \"b h w -> b h w 1\")\n",
    "X_test = rearrange(X_test, \"b h w -> b h w 1\")\n",
    "\n",
    "X_train = X_train.astype(\"float32\") / (2 ** 8 - 1)   # 255로 scaling\n",
    "X_test = X_test.astype(\"float32\") / (2 ** 8 - 1)     # 255로 scaling\n",
    "\n",
    "y_train = to_categorical(y_train, target_size)       # 타겟을 정수로 변환\n",
    "y_test = to_categorical(y_test, target_size) "
   ]
  },
  {
   "cell_type": "code",
   "execution_count": null,
   "id": "fd1752df-ae19-4191-adc3-9014236da8b5",
   "metadata": {
    "id": "fd1752df-ae19-4191-adc3-9014236da8b5"
   },
   "outputs": [],
   "source": [
    "X_train, X_val, y_train, y_val = train_test_split(X_train, y_train, test_size=0.2)"
   ]
  },
  {
   "cell_type": "code",
   "execution_count": null,
   "id": "fDskH_kINW6z",
   "metadata": {
    "colab": {
     "base_uri": "https://localhost:8080/",
     "height": 553
    },
    "id": "fDskH_kINW6z",
    "outputId": "491998b7-4eb6-4407-eb25-2699ea8aec49"
   },
   "outputs": [],
   "source": [
    "train_datagen = ImageDataGenerator(rotation_range=20,         # 무작위 회전 각도\n",
    "                                   width_shift_range=0.2,     # 가로 shift 비율 (전체 너비 대비 비율)\n",
    "                                   height_shift_range=0.2,    # 세로 shift 비율\n",
    "                                   brightness_range=None,     # 밝기 변환 범위 ex) (0.2, 0.8)\n",
    "                                   zoom_range=0.1,            # 확대 비율 (소수 1개 혹은 범위 지정 가능)\n",
    "                                   horizontal_flip=False,     # 무작위 수평 전환\n",
    "                                   vertical_flip=False,       # 무작위 수직 전환 (50% 확률)\n",
    "                                   shear_range=0.2,\n",
    "                                   rescale=None)              # 크기 재조절 인수 (보통 1./255를 많이 사용하지만 같은 비율로 valid data도 처리해줘야함)\n",
    "\n",
    "train_flow = train_datagen.flow(X_train, y_train, batch_size=256, shuffle=True)\n",
    "# val_flow = val_datagen.flow(X_val, y_val, batch_size=256, shuffle=False)\n",
    "\n",
    "fig = plt.figure(figsize=(9, 9))\n",
    "fig.tight_layout()\n",
    "\n",
    "# ImageDataGenerator 결과 프린트\n",
    "for X_batch, y_batch in train_datagen.flow(X_train, y_train, batch_size=9, shuffle=True):\n",
    "  for i in range(9):\n",
    "    plt.subplot(3, 3, 1 + i)\n",
    "    plt.imshow(X_batch[i].reshape(28, 28), cmap=\"gray\", interpolation=\"none\")\n",
    "    plt.title(np.argmax(y_batch[i]))\n",
    "  plt.show()\n",
    "  break\n"
   ]
  },
  {
   "cell_type": "code",
   "execution_count": null,
   "id": "76de6936-69dc-4d31-998c-2e1e68707363",
   "metadata": {
    "colab": {
     "base_uri": "https://localhost:8080/"
    },
    "id": "76de6936-69dc-4d31-998c-2e1e68707363",
    "outputId": "e5f15f43-1984-4dde-bb73-56b249b97617"
   },
   "outputs": [],
   "source": [
    "print(X_train.shape)\n",
    "print(X_val.shape)\n",
    "print(X_test.shape)\n",
    "print(y_train.shape)\n",
    "print(y_val.shape)\n",
    "print(y_test.shape)"
   ]
  },
  {
   "cell_type": "code",
   "execution_count": null,
   "id": "acddba37-8622-4071-9d95-6749d6495429",
   "metadata": {
    "colab": {
     "base_uri": "https://localhost:8080/"
    },
    "id": "acddba37-8622-4071-9d95-6749d6495429",
    "outputId": "513296e8-6de2-41a0-a2a8-218721288f16"
   },
   "outputs": [],
   "source": [
    "inputs = Input(shape=(28, 28, 1)) \n",
    "\n",
    "X = Conv2D(64, (3,3), padding='same', kernel_initializer='he_normal')(inputs)\n",
    "X = BatchNormalization(momentum=0.9, epsilon=1e-5, gamma_initializer=\"uniform\")(X)\n",
    "X = ReLU()(X)\n",
    "X = Conv2D(64, (3,3), padding='same')(X)\n",
    "X = BatchNormalization(momentum=0.9, epsilon=1e-5, gamma_initializer=\"uniform\")(X)\n",
    "X = ReLU()(X)\n",
    "    \n",
    "X = MaxPooling2D(2, 2)(X)\n",
    "#    tf.keras.layers.Dropout(0.8),\n",
    "    \n",
    "X = Conv2D(128, (3,3), padding='same')(X)\n",
    "X = BatchNormalization(momentum=0.9, epsilon=1e-5, gamma_initializer=\"uniform\")(X)\n",
    "X = ReLU()(X)\n",
    "X = Conv2D(128, (3,3), padding='same')(X)\n",
    "X = BatchNormalization(momentum=0.9, epsilon=1e-5, gamma_initializer=\"uniform\")(X)\n",
    "X = ReLU()(X)\n",
    "    \n",
    "X = MaxPooling2D(2,2)(X)\n",
    "#    tf.keras.layers.Dropout(0.8),\n",
    "\n",
    "X = Conv2D(256, (3,3), padding='same')(X)\n",
    "X = BatchNormalization(momentum=0.9, epsilon=1e-5, gamma_initializer=\"uniform\")(X)\n",
    "X = ReLU()(X)\n",
    "X = Conv2D(256, (3,3), padding='same')(X)\n",
    "X = BatchNormalization(momentum=0.9, epsilon=1e-5, gamma_initializer=\"uniform\")(X)\n",
    "X = ReLU()(X)\n",
    "    \n",
    "X = MaxPooling2D(2,2)(X)\n",
    "#    tf.keras.layers.Dropout(0.8),\n",
    "    \n",
    "X = Flatten()(X)\n",
    "X = Dense(1024, activation='relu')(X)\n",
    " #   tf.keras.layers.LeakyReLU(alpha=0.1),\n",
    "X = Dense(1024, activation='relu')(X)\n",
    " #   tf.keras.layers.LeakyReLU(alpha=0.1),\n",
    "\n",
    "X = Dropout(0.6)(X)\n",
    "outputs = Dense(10, activation='softmax')(X)\n",
    "\n",
    "model = Model(inputs=inputs, outputs=outputs)\n",
    "model.summary()"
   ]
  },
  {
   "cell_type": "code",
   "execution_count": null,
   "id": "63e0e1e8-7819-43b0-a0fe-a684a66bb0c7",
   "metadata": {
    "colab": {
     "base_uri": "https://localhost:8080/",
     "height": 1000
    },
    "id": "63e0e1e8-7819-43b0-a0fe-a684a66bb0c7",
    "outputId": "eba41147-c3d3-49f5-af26-ee8b02a6d914",
    "scrolled": true,
    "tags": []
   },
   "outputs": [],
   "source": [
    "\n",
    "optim = Adam(learning_rate=0.005)\n",
    "\n",
    "acc_lst = []\n",
    "loss_lst = []\n",
    "source = {\"Accuracy\" : acc_lst, \"Loss\" : loss_lst}\n",
    "\n",
    "for i in range(50):\n",
    "    model = Model(inputs=inputs, outputs=outputs)\n",
    "    model.compile(optimizer='adam', loss=\"categorical_crossentropy\", metrics=[\"accuracy\"])\n",
    "\n",
    "    es = EarlyStopping(monitor='val_loss', min_delta=0.001, patience=10, verbose=1, mode='min')\n",
    "    mc = ModelCheckpoint(\"best{:02d}.ckpt\".format(i+1), monitor='val_loss', verbose=1, save_best_only=True, save_weight_only=True, mode='min', restore_best_weights=True)\n",
    "    rl = ReduceLROnPlateau(monitor='val_loss', factor=0.2, patience=2, verbose=1, min_delta=0.001, min_lr=0.00001)\n",
    "\n",
    "    history = model.fit(train_flow, batch_size=256, epochs=50, validation_data=(X_val, y_val), verbose=1, callbacks=[es, mc, rl])\n",
    "    loss, acc = model.evaluate(X_test, y_test)\n",
    "    print(\"Model accuracy: {:5.2f}%\".format(100*acc))\n",
    "    acc_lst.append(acc)\n",
    "    loss_lst.append(loss)\n",
    "    fig, ax = plt.subplots(2,1)\n",
    "    ax[0].plot(history.history['loss'], color='b', label=\"Training loss\")\n",
    "    ax[0].plot(history.history['val_loss'], color='r', label=\"validation loss\",axes =ax[0])\n",
    "    ax[0].set_ylim([0.0, 0.05])\n",
    "    legend = ax[0].legend(loc='best', shadow=True)\n",
    "\n",
    "    ax[1].plot(history.history['accuracy'], color='b', label=\"Training accuracy\")\n",
    "    ax[1].plot(history.history['val_accuracy'], color='r',label=\"Validation accuracy\")\n",
    "    ax[1].set_ylim([0.98, 1])\n",
    "    legend = ax[1].legend(loc='best', shadow=True)\n",
    "    fig.savefig('C:\\\\Users\\\\김용재\\\\Desktop\\\\Pie\\\\Parrot\\\\Mini-Contest 1\\\\-Parrot_5th_Level1\\\\plots\\\\plt{}.png'.format(i))   # save the figure to file\n",
    "    plt.close(fig)\n",
    "    del model"
   ]
  },
  {
   "cell_type": "markdown",
   "id": "b174ec48-1ed8-4375-9acf-456470fe9ad2",
   "metadata": {
    "id": "b174ec48-1ed8-4375-9acf-456470fe9ad2"
   },
   "source": [
    "위에 있는 모델은\n",
    "\n",
    "https://tobigs.gitbook.io/tobigs/deep-learning/undefined/advanced-neural-net-2\n",
    "\n",
    "이 링크의 SOPCNN 모델을\n",
    "\n",
    "https://paperswithcode.com/paper/stochastic-optimization-of-plain\n",
    "\n",
    "SOPCNN 논문에 맞게 수정한 모델입니다!\n",
    "\n",
    "최대 정확도 99.75%\n",
    "\n",
    "## Sources\n",
    "https://towardsdatascience.com/the-quest-of-higher-accuracy-for-cnn-models-42df5d731faf"
   ]
  },
  {
   "cell_type": "code",
   "execution_count": null,
   "id": "ec8ece0e-3342-4a64-ba51-72fa0d67be8c",
   "metadata": {},
   "outputs": [],
   "source": [
    "Data = pd.DataFrame(source)\n",
    "print(\"Average test accuracy : {:5.2f}%\".format(100*(sum(acc_lst)/len(acc_lst))))\n",
    "Data"
   ]
  },
  {
   "cell_type": "code",
   "execution_count": null,
   "id": "f514ddc8-8eb9-45a9-9b2a-c70f6a3107eb",
   "metadata": {},
   "outputs": [],
   "source": []
  }
 ],
 "metadata": {
  "accelerator": "GPU",
  "colab": {
   "collapsed_sections": [],
   "name": "SOP_99_75.ipynb",
   "provenance": []
  },
  "kernelspec": {
   "display_name": "Python 3",
   "language": "python",
   "name": "python3"
  },
  "language_info": {
   "codemirror_mode": {
    "name": "ipython",
    "version": 3
   },
   "file_extension": ".py",
   "mimetype": "text/x-python",
   "name": "python",
   "nbconvert_exporter": "python",
   "pygments_lexer": "ipython3",
   "version": "3.8.8"
  }
 },
 "nbformat": 4,
 "nbformat_minor": 5
}
